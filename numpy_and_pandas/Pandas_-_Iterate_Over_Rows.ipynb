{
 "cells": [
  {
   "cell_type": "code",
   "execution_count": null,
   "id": "1b2f263f",
   "metadata": {},
   "outputs": [],
   "source": [
    "# https://dataindependent.com/pandas/pandas-iterate-over-rows-5-methods/"
   ]
  },
  {
   "cell_type": "code",
   "execution_count": null,
   "id": "0bd1e141",
   "metadata": {},
   "outputs": [],
   "source": [
    "# Here are 5 methods to iterate over rows-- from most to least recommended:\n",
    "\n",
    "# -DataFrame.apply()\n",
    "# -DataFrame.iterrows()\n",
    "# -DataFrame.itertuples()\n",
    "# -Concert to DataFrame to Dictionary\n",
    "# -DataFrame.iloc\n",
    "\n",
    "# Operation - Go through each one of my DataFrame's rows and do something with the data\n",
    "# Warning - Iterating thry Pandas objects is slow and in many cases iterating\n",
    "#           manually is not needed."
   ]
  },
  {
   "cell_type": "code",
   "execution_count": 1,
   "id": "5c54c1c1",
   "metadata": {},
   "outputs": [],
   "source": [
    "import pandas as pd"
   ]
  },
  {
   "cell_type": "code",
   "execution_count": 3,
   "id": "6bcf72e9",
   "metadata": {},
   "outputs": [
    {
     "data": {
      "text/html": [
       "<div>\n",
       "<style scoped>\n",
       "    .dataframe tbody tr th:only-of-type {\n",
       "        vertical-align: middle;\n",
       "    }\n",
       "\n",
       "    .dataframe tbody tr th {\n",
       "        vertical-align: top;\n",
       "    }\n",
       "\n",
       "    .dataframe thead th {\n",
       "        text-align: right;\n",
       "    }\n",
       "</style>\n",
       "<table border=\"1\" class=\"dataframe\">\n",
       "  <thead>\n",
       "    <tr style=\"text-align: right;\">\n",
       "      <th></th>\n",
       "      <th>Name</th>\n",
       "      <th>Type</th>\n",
       "      <th>AvgBill</th>\n",
       "    </tr>\n",
       "  </thead>\n",
       "  <tbody>\n",
       "    <tr>\n",
       "      <th>0</th>\n",
       "      <td>Foreign Cinema</td>\n",
       "      <td>Restaurant</td>\n",
       "      <td>289.00</td>\n",
       "    </tr>\n",
       "    <tr>\n",
       "      <th>1</th>\n",
       "      <td>Liho Liho</td>\n",
       "      <td>Restaurant</td>\n",
       "      <td>224.00</td>\n",
       "    </tr>\n",
       "    <tr>\n",
       "      <th>2</th>\n",
       "      <td>500 Club</td>\n",
       "      <td>bar</td>\n",
       "      <td>80.50</td>\n",
       "    </tr>\n",
       "    <tr>\n",
       "      <th>3</th>\n",
       "      <td>The Square</td>\n",
       "      <td>bar</td>\n",
       "      <td>25.30</td>\n",
       "    </tr>\n",
       "    <tr>\n",
       "      <th>4</th>\n",
       "      <td>The Lighthouse</td>\n",
       "      <td>bar</td>\n",
       "      <td>15.30</td>\n",
       "    </tr>\n",
       "    <tr>\n",
       "      <th>5</th>\n",
       "      <td>Al's Place</td>\n",
       "      <td>Restaurant</td>\n",
       "      <td>456.53</td>\n",
       "    </tr>\n",
       "  </tbody>\n",
       "</table>\n",
       "</div>"
      ],
      "text/plain": [
       "             Name        Type  AvgBill\n",
       "0  Foreign Cinema  Restaurant   289.00\n",
       "1       Liho Liho  Restaurant   224.00\n",
       "2        500 Club         bar    80.50\n",
       "3      The Square         bar    25.30\n",
       "4  The Lighthouse         bar    15.30\n",
       "5      Al's Place  Restaurant   456.53"
      ]
     },
     "execution_count": 3,
     "metadata": {},
     "output_type": "execute_result"
    }
   ],
   "source": [
    "df = pd.DataFrame([('Foreign Cinema', 'Restaurant', 289.0),\n",
    "                   ('Liho Liho', 'Restaurant', 224.0),\n",
    "                   ('500 Club', 'bar', 80.5),\n",
    "                   ('The Square', 'bar', 25.30),\n",
    "                   ('The Lighthouse', 'bar', 15.30),\n",
    "                   (\"Al's Place\", 'Restaurant', 456.53)],\n",
    "           columns=('Name', 'Type', 'AvgBill')\n",
    "                 )\n",
    "df"
   ]
  },
  {
   "cell_type": "code",
   "execution_count": 11,
   "id": "4313715b",
   "metadata": {},
   "outputs": [
    {
     "name": "stdout",
     "output_type": "stream",
     "text": [
      "Foreign Cinema - 289.0\n",
      "Liho Liho - 224.0\n",
      "500 Club - 80.5\n",
      "The Square - 25.3\n",
      "The Lighthouse - 15.3\n",
      "Al's Place - 456.53\n"
     ]
    },
    {
     "data": {
      "text/plain": [
       "0    None\n",
       "1    None\n",
       "2    None\n",
       "3    None\n",
       "4    None\n",
       "5    None\n",
       "dtype: object"
      ]
     },
     "execution_count": 11,
     "metadata": {},
     "output_type": "execute_result"
    }
   ],
   "source": [
    "# DataFrame.apply()\n",
    "#     If you're gonna iterate at all, this is the recommendation.\n",
    "#     Applies a function along a specific axis (rows/cols) of a DataFrame.\n",
    "\n",
    "df.apply(lambda x: print(f\"{x['Name']} - {x['AvgBill']}\"), axis = 1)"
   ]
  },
  {
   "cell_type": "code",
   "execution_count": 14,
   "id": "fe19df53",
   "metadata": {},
   "outputs": [
    {
     "name": "stdout",
     "output_type": "stream",
     "text": [
      "Index: 0\n",
      "Foreign Cinema - 289.0\n",
      "\n",
      "Index: 1\n",
      "Liho Liho - 224.0\n",
      "\n",
      "Index: 2\n",
      "500 Club - 80.5\n",
      "\n",
      "Index: 3\n",
      "The Square - 25.3\n",
      "\n",
      "Index: 4\n",
      "The Lighthouse - 15.3\n",
      "\n",
      "Index: 5\n",
      "Al's Place - 456.53\n",
      "\n"
     ]
    }
   ],
   "source": [
    "# DataFrame.iterrows()\n",
    "# This function iterates over the rows and returns 1. The index of the row\n",
    "# and 2. an object containing the row itself. \n",
    "\n",
    "for index, contents in df.iterrows():\n",
    "    print(f\"Index: {index}\")\n",
    "    print(f\"{contents['Name']} - {contents['AvgBill']}\")\n",
    "    print()\n"
   ]
  },
  {
   "cell_type": "code",
   "execution_count": 16,
   "id": "a1c1e67f",
   "metadata": {},
   "outputs": [
    {
     "name": "stdout",
     "output_type": "stream",
     "text": [
      "Pandas(Index=0, Name='Foreign Cinema', Type='Restaurant', AvgBill=289.0)\n",
      "Foreign Cinema\n",
      "\n",
      "Pandas(Index=1, Name='Liho Liho', Type='Restaurant', AvgBill=224.0)\n",
      "Liho Liho\n",
      "\n",
      "Pandas(Index=2, Name='500 Club', Type='bar', AvgBill=80.5)\n",
      "500 Club\n",
      "\n",
      "Pandas(Index=3, Name='The Square', Type='bar', AvgBill=25.3)\n",
      "The Square\n",
      "\n",
      "Pandas(Index=4, Name='The Lighthouse', Type='bar', AvgBill=15.3)\n",
      "The Lighthouse\n",
      "\n",
      "Pandas(Index=5, Name=\"Al's Place\", Type='Restaurant', AvgBill=456.53)\n",
      "Al's Place\n",
      "\n"
     ]
    }
   ],
   "source": [
    "# DataFrame.itertuples()\n",
    "# Returns \"named tuples\"-- a data type from Pythons Collections module. \n",
    "#    Acts like a tuple, but you can look it up by name.\n",
    "\n",
    "for row in df.itertuples():\n",
    "    print(row)\n",
    "    print(row.Name)\n",
    "    print()"
   ]
  },
  {
   "cell_type": "code",
   "execution_count": 18,
   "id": "65155843",
   "metadata": {},
   "outputs": [
    {
     "data": {
      "text/plain": [
       "{0: {'Name': 'Foreign Cinema', 'Type': 'Restaurant', 'AvgBill': 289.0},\n",
       " 1: {'Name': 'Liho Liho', 'Type': 'Restaurant', 'AvgBill': 224.0},\n",
       " 2: {'Name': '500 Club', 'Type': 'bar', 'AvgBill': 80.5},\n",
       " 3: {'Name': 'The Square', 'Type': 'bar', 'AvgBill': 25.3},\n",
       " 4: {'Name': 'The Lighthouse', 'Type': 'bar', 'AvgBill': 15.3},\n",
       " 5: {'Name': \"Al's Place\", 'Type': 'Restaurant', 'AvgBill': 456.53}}"
      ]
     },
     "execution_count": 18,
     "metadata": {},
     "output_type": "execute_result"
    }
   ],
   "source": [
    "# Convert your DF to a Dictionary\n",
    "# If you need to work with a dictionary. You lose pandas functionality.\n",
    "\n",
    "df_dict = df.to_dict(orient='index')\n",
    "df_dict"
   ]
  },
  {
   "cell_type": "code",
   "execution_count": 19,
   "id": "91a0afa0",
   "metadata": {},
   "outputs": [
    {
     "name": "stdout",
     "output_type": "stream",
     "text": [
      "0\n",
      "{'Name': 'Foreign Cinema', 'Type': 'Restaurant', 'AvgBill': 289.0}\n",
      "Foreign Cinema\n",
      "1\n",
      "{'Name': 'Liho Liho', 'Type': 'Restaurant', 'AvgBill': 224.0}\n",
      "Liho Liho\n",
      "2\n",
      "{'Name': '500 Club', 'Type': 'bar', 'AvgBill': 80.5}\n",
      "500 Club\n",
      "3\n",
      "{'Name': 'The Square', 'Type': 'bar', 'AvgBill': 25.3}\n",
      "The Square\n",
      "4\n",
      "{'Name': 'The Lighthouse', 'Type': 'bar', 'AvgBill': 15.3}\n",
      "The Lighthouse\n",
      "5\n",
      "{'Name': \"Al's Place\", 'Type': 'Restaurant', 'AvgBill': 456.53}\n",
      "Al's Place\n"
     ]
    }
   ],
   "source": [
    "for key in df_dict:\n",
    "    print(key)\n",
    "    print(df_dict[key])\n",
    "    print(df_dict[key]['Name'])"
   ]
  },
  {
   "cell_type": "code",
   "execution_count": 21,
   "id": "5611d4a8",
   "metadata": {},
   "outputs": [
    {
     "name": "stdout",
     "output_type": "stream",
     "text": [
      "Name       Foreign Cinema\n",
      "Type           Restaurant\n",
      "AvgBill             289.0\n",
      "Name: 0, dtype: object\n",
      "\n",
      "Name Foreign Cinema\n",
      "\n",
      "\n",
      "Name        Liho Liho\n",
      "Type       Restaurant\n",
      "AvgBill         224.0\n",
      "Name: 1, dtype: object\n",
      "\n",
      "Name Liho Liho\n",
      "\n",
      "\n",
      "Name       500 Club\n",
      "Type            bar\n",
      "AvgBill        80.5\n",
      "Name: 2, dtype: object\n",
      "\n",
      "Name 500 Club\n",
      "\n",
      "\n",
      "Name       The Square\n",
      "Type              bar\n",
      "AvgBill          25.3\n",
      "Name: 3, dtype: object\n",
      "\n",
      "Name The Square\n",
      "\n",
      "\n",
      "Name       The Lighthouse\n",
      "Type                  bar\n",
      "AvgBill              15.3\n",
      "Name: 4, dtype: object\n",
      "\n",
      "Name The Lighthouse\n",
      "\n",
      "\n",
      "Name       Al's Place\n",
      "Type       Restaurant\n",
      "AvgBill        456.53\n",
      "Name: 5, dtype: object\n",
      "\n",
      "Name Al's Place\n",
      "\n",
      "\n"
     ]
    }
   ],
   "source": [
    "# DataFrame.iloc[]\n",
    "# Slow. Unless you're working with a tiny dataset, try to avoid and use any of the \n",
    "# above.\n",
    "\n",
    "for i in range (len(df)):\n",
    "    print(df.iloc[i])\n",
    "    print()\n",
    "    print(f\"Name {df.iloc[i]['Name']}\")\n",
    "    print(\"\\n\")"
   ]
  },
  {
   "cell_type": "code",
   "execution_count": null,
   "id": "a163fe5e",
   "metadata": {},
   "outputs": [],
   "source": []
  }
 ],
 "metadata": {
  "kernelspec": {
   "display_name": "Python 3 (ipykernel)",
   "language": "python",
   "name": "python3"
  },
  "language_info": {
   "codemirror_mode": {
    "name": "ipython",
    "version": 3
   },
   "file_extension": ".py",
   "mimetype": "text/x-python",
   "name": "python",
   "nbconvert_exporter": "python",
   "pygments_lexer": "ipython3",
   "version": "3.9.7"
  }
 },
 "nbformat": 4,
 "nbformat_minor": 5
}
