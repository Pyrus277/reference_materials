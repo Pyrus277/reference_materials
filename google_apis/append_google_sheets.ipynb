{
 "cells": [
  {
   "cell_type": "markdown",
   "id": "8d97d872-b353-4898-aaa9-84ec1d988253",
   "metadata": {},
   "source": [
    "# Getting your master list\n",
    "    - From a set of zip codes    "
   ]
  },
  {
   "cell_type": "markdown",
   "id": "4cdfd968-642b-4dda-b0cb-33e1ed7e4fdb",
   "metadata": {},
   "source": [
    "At the end of any request, must call `time.sleep(2)` or you'll be timed out, or the next_page_token won't yet be active in the case of one. "
   ]
  },
  {
   "cell_type": "markdown",
   "id": "43be7ec1-c837-4358-bfcc-162a6119acc4",
   "metadata": {},
   "source": [
    "---"
   ]
  },
  {
   "cell_type": "markdown",
   "id": "d41a4e27-ab03-4ac6-93fc-862858657376",
   "metadata": {
    "tags": []
   },
   "source": [
    "`pygsheets`"
   ]
  },
  {
   "cell_type": "code",
   "execution_count": 1,
   "id": "392576d1-ef32-4d67-95bc-2ba43b377289",
   "metadata": {},
   "outputs": [],
   "source": [
    "import pygsheets\n",
    "import pandas as pd\n",
    "import json\n",
    "import csv\n",
    "# from google.oauth2 import service_account"
   ]
  },
  {
   "cell_type": "code",
   "execution_count": 4,
   "id": "0c60a652-e58c-4610-9daf-21434c6082b2",
   "metadata": {},
   "outputs": [],
   "source": [
    "# with open('service_account.json') as source:\n",
    "#     info = json.load(source)\n",
    "# credentials = service_account.Credentials.from_service_account_info(info)"
   ]
  },
  {
   "cell_type": "code",
   "execution_count": 2,
   "id": "040695fa-368b-4a66-b40c-f9ca3ee94080",
   "metadata": {},
   "outputs": [],
   "source": [
    "client = pygsheets.authorize(service_account_file='service_account.json')"
   ]
  },
  {
   "cell_type": "code",
   "execution_count": 3,
   "id": "af352f9e-9db6-4363-a8c7-39789ea48f2c",
   "metadata": {},
   "outputs": [],
   "source": [
    "# open the sheet\n",
    "sheet = client.open('test_sheet')"
   ]
  },
  {
   "cell_type": "code",
   "execution_count": 4,
   "id": "ca30fccd-c399-499c-887f-48ffa906558c",
   "metadata": {},
   "outputs": [
    {
     "data": {
      "text/plain": [
       "<Worksheet 'Sheet1' index:0>"
      ]
     },
     "execution_count": 4,
     "metadata": {},
     "output_type": "execute_result"
    }
   ],
   "source": [
    "wks = sheet.worksheet_by_title('Sheet1')\n",
    "wks"
   ]
  },
  {
   "cell_type": "markdown",
   "id": "14a8673c-556b-48d2-91ee-869c59f815e9",
   "metadata": {},
   "source": [
    "#### How to Upload Data to a Google Sheet from a Pandas DF"
   ]
  },
  {
   "cell_type": "code",
   "execution_count": 5,
   "id": "91aa48be-cbbc-42f6-806c-015bae97dc33",
   "metadata": {},
   "outputs": [
    {
     "data": {
      "text/html": [
       "<div>\n",
       "<style scoped>\n",
       "    .dataframe tbody tr th:only-of-type {\n",
       "        vertical-align: middle;\n",
       "    }\n",
       "\n",
       "    .dataframe tbody tr th {\n",
       "        vertical-align: top;\n",
       "    }\n",
       "\n",
       "    .dataframe thead th {\n",
       "        text-align: right;\n",
       "    }\n",
       "</style>\n",
       "<table border=\"1\" class=\"dataframe\">\n",
       "  <thead>\n",
       "    <tr style=\"text-align: right;\">\n",
       "      <th></th>\n",
       "      <th>place_id</th>\n",
       "      <th>name</th>\n",
       "      <th>address</th>\n",
       "    </tr>\n",
       "  </thead>\n",
       "  <tbody>\n",
       "    <tr>\n",
       "      <th>0</th>\n",
       "      <td>44324</td>\n",
       "      <td>Coffee Monster</td>\n",
       "      <td>123 Fake Street, New York, NY 10022</td>\n",
       "    </tr>\n",
       "    <tr>\n",
       "      <th>1</th>\n",
       "      <td>25425</td>\n",
       "      <td>Coffee Factory</td>\n",
       "      <td>622 Avenue R, New York, NY, 10044</td>\n",
       "    </tr>\n",
       "    <tr>\n",
       "      <th>2</th>\n",
       "      <td>56332</td>\n",
       "      <td>Cafe Grumpy - Manhattan West</td>\n",
       "      <td>inside Whole Foods Market, 450 W 33rd St, New ...</td>\n",
       "    </tr>\n",
       "    <tr>\n",
       "      <th>3</th>\n",
       "      <td>65623</td>\n",
       "      <td>Coffee Addiction</td>\n",
       "      <td>-23 Waffle House Way, New York, NY 10033</td>\n",
       "    </tr>\n",
       "  </tbody>\n",
       "</table>\n",
       "</div>"
      ],
      "text/plain": [
       "   place_id                          name  \\\n",
       "0     44324                Coffee Monster   \n",
       "1     25425                Coffee Factory   \n",
       "2     56332  Cafe Grumpy - Manhattan West   \n",
       "3     65623              Coffee Addiction   \n",
       "\n",
       "                                             address  \n",
       "0                123 Fake Street, New York, NY 10022  \n",
       "1                  622 Avenue R, New York, NY, 10044  \n",
       "2  inside Whole Foods Market, 450 W 33rd St, New ...  \n",
       "3           -23 Waffle House Way, New York, NY 10033  "
      ]
     },
     "execution_count": 5,
     "metadata": {},
     "output_type": "execute_result"
    }
   ],
   "source": [
    "import pandas as pd\n",
    "df = pd.DataFrame({'place_id':[44324,25425,56332,65623],\n",
    "                   'name':['Coffee Monster', 'Coffee Factory', 'Cafe Grumpy - Manhattan West', 'Coffee Addiction'], \n",
    "                   'address':['123 Fake Street, New York, NY 10022', \n",
    "                              '622 Avenue R, New York, NY, 10044',\n",
    "                              'inside Whole Foods Market, 450 W 33rd St, New York, NY 10001, United States',\n",
    "                              '-23 Waffle House Way, New York, NY 10033']})\n",
    "df"
   ]
  },
  {
   "cell_type": "markdown",
   "id": "7e97e832-c9e2-496f-92a8-7a6a07139ca9",
   "metadata": {},
   "source": [
    "## HERE IT IS "
   ]
  },
  {
   "cell_type": "code",
   "execution_count": 6,
   "id": "6b36a123-8d0f-4719-b5ea-bc6c4287f853",
   "metadata": {},
   "outputs": [],
   "source": [
    "# find the row to append at\n",
    "cells = wks.get_all_values(include_tailing_empty_rows=False, include_tailing_empty=False, returnas='matrix')\n",
    "# add more rows (I thought extend=True in the next line does this, but I guess not)\n",
    "wks.insert_rows(len(cells), number=len(df), inherit=True)\n",
    "# append dataframe data\n",
    "wks.set_dataframe(df, start=(len(cells)+1,1), copy_head=False, extend=True)"
   ]
  },
  {
   "cell_type": "markdown",
   "id": "a8894028-4880-4134-b75d-52283d538dbb",
   "metadata": {},
   "source": [
    "`extend=True` should add more rows. Except it doesn't. Fix this problem or just start with a sheet with more rows than you'll need (sloppy)"
   ]
  },
  {
   "cell_type": "code",
   "execution_count": null,
   "id": "7942946f-b3dd-4f7a-b530-2f0913ab47b7",
   "metadata": {},
   "outputs": [],
   "source": []
  },
  {
   "cell_type": "code",
   "execution_count": null,
   "id": "251a9ebc-a1c6-480c-bc26-ca315aef16a4",
   "metadata": {},
   "outputs": [],
   "source": [
    "zips = sheet.worksheet_by_title('Sheet3')"
   ]
  },
  {
   "cell_type": "code",
   "execution_count": null,
   "id": "76aff994-a494-4edc-b8a4-a4967c637481",
   "metadata": {},
   "outputs": [],
   "source": [
    "zips.get_col(1, include_tailing_empty=False)[1:]"
   ]
  },
  {
   "cell_type": "code",
   "execution_count": null,
   "id": "3208871a-876f-4d70-9926-729049ce716e",
   "metadata": {},
   "outputs": [],
   "source": []
  },
  {
   "cell_type": "markdown",
   "id": "d704fb74-64f7-4859-9231-5415fce12ee0",
   "metadata": {},
   "source": [
    "Use Pandas to keep the last 4 parts of the address"
   ]
  },
  {
   "cell_type": "code",
   "execution_count": 3,
   "id": "e77ba218-2dec-4cee-a5bd-7b1f95168f1b",
   "metadata": {},
   "outputs": [
    {
     "data": {
      "text/html": [
       "<div>\n",
       "<style scoped>\n",
       "    .dataframe tbody tr th:only-of-type {\n",
       "        vertical-align: middle;\n",
       "    }\n",
       "\n",
       "    .dataframe tbody tr th {\n",
       "        vertical-align: top;\n",
       "    }\n",
       "\n",
       "    .dataframe thead th {\n",
       "        text-align: right;\n",
       "    }\n",
       "</style>\n",
       "<table border=\"1\" class=\"dataframe\">\n",
       "  <thead>\n",
       "    <tr style=\"text-align: right;\">\n",
       "      <th></th>\n",
       "      <th>name</th>\n",
       "      <th>address</th>\n",
       "    </tr>\n",
       "  </thead>\n",
       "  <tbody>\n",
       "    <tr>\n",
       "      <th>0</th>\n",
       "      <td>Coffee Monster</td>\n",
       "      <td>123 Fake Street, New York, NY 10022</td>\n",
       "    </tr>\n",
       "    <tr>\n",
       "      <th>1</th>\n",
       "      <td>Coffee Factory</td>\n",
       "      <td>622 Avenue R, New York, NY, 10044</td>\n",
       "    </tr>\n",
       "    <tr>\n",
       "      <th>2</th>\n",
       "      <td>Cafe Grumpy - Manhattan West</td>\n",
       "      <td>inside Whole Foods Market, 450 W 33rd St, New ...</td>\n",
       "    </tr>\n",
       "    <tr>\n",
       "      <th>3</th>\n",
       "      <td>Coffee Addiction</td>\n",
       "      <td>-23 Waffle House Way, New York, NY 10033</td>\n",
       "    </tr>\n",
       "  </tbody>\n",
       "</table>\n",
       "</div>"
      ],
      "text/plain": [
       "                           name  \\\n",
       "0                Coffee Monster   \n",
       "1                Coffee Factory   \n",
       "2  Cafe Grumpy - Manhattan West   \n",
       "3              Coffee Addiction   \n",
       "\n",
       "                                             address  \n",
       "0                123 Fake Street, New York, NY 10022  \n",
       "1                  622 Avenue R, New York, NY, 10044  \n",
       "2  inside Whole Foods Market, 450 W 33rd St, New ...  \n",
       "3           -23 Waffle House Way, New York, NY 10033  "
      ]
     },
     "execution_count": 3,
     "metadata": {},
     "output_type": "execute_result"
    }
   ],
   "source": [
    "df"
   ]
  },
  {
   "cell_type": "markdown",
   "id": "16e0c6fe-1e2e-4d9f-a380-992abb1e2a8a",
   "metadata": {},
   "source": [
    "We need to keep the last 4 elements of each address.\n",
    "We also need to toss zip codes that are not in the search."
   ]
  },
  {
   "cell_type": "code",
   "execution_count": null,
   "id": "a9abc370-c504-4fae-ab75-1cce786bfc44",
   "metadata": {},
   "outputs": [],
   "source": [
    "df."
   ]
  },
  {
   "cell_type": "code",
   "execution_count": 4,
   "id": "3c52b0f1-5615-433f-896e-fabbdd99d2d0",
   "metadata": {},
   "outputs": [],
   "source": [
    "addr = 'inside Whole Foods Market, 450 W 33rd St, New York, NY 10001, United States'"
   ]
  },
  {
   "cell_type": "code",
   "execution_count": 13,
   "id": "9908941d-3027-48af-a898-69b81c741764",
   "metadata": {},
   "outputs": [
    {
     "data": {
      "text/plain": [
       "'450 W 33rd St, New York, NY 10001, United States'"
      ]
     },
     "execution_count": 13,
     "metadata": {},
     "output_type": "execute_result"
    }
   ],
   "source": [
    "(', ').join(addr.split(', ')[-4:])"
   ]
  },
  {
   "cell_type": "code",
   "execution_count": 17,
   "id": "dc131f9e-dde7-4a3f-8138-17f719f4d514",
   "metadata": {},
   "outputs": [
    {
     "data": {
      "text/html": [
       "<div>\n",
       "<style scoped>\n",
       "    .dataframe tbody tr th:only-of-type {\n",
       "        vertical-align: middle;\n",
       "    }\n",
       "\n",
       "    .dataframe tbody tr th {\n",
       "        vertical-align: top;\n",
       "    }\n",
       "\n",
       "    .dataframe thead th {\n",
       "        text-align: right;\n",
       "    }\n",
       "</style>\n",
       "<table border=\"1\" class=\"dataframe\">\n",
       "  <thead>\n",
       "    <tr style=\"text-align: right;\">\n",
       "      <th></th>\n",
       "      <th>name</th>\n",
       "      <th>address</th>\n",
       "    </tr>\n",
       "  </thead>\n",
       "  <tbody>\n",
       "    <tr>\n",
       "      <th>0</th>\n",
       "      <td>Coffee Monster</td>\n",
       "      <td>123 Fake Street, New York, NY 10022</td>\n",
       "    </tr>\n",
       "    <tr>\n",
       "      <th>1</th>\n",
       "      <td>Coffee Factory</td>\n",
       "      <td>622 Avenue R, New York, NY, 10044</td>\n",
       "    </tr>\n",
       "    <tr>\n",
       "      <th>2</th>\n",
       "      <td>Cafe Grumpy - Manhattan West</td>\n",
       "      <td>450 W 33rd St, New York, NY 10001, United States</td>\n",
       "    </tr>\n",
       "    <tr>\n",
       "      <th>3</th>\n",
       "      <td>Coffee Addiction</td>\n",
       "      <td>-23 Waffle House Way, New York, NY 10033</td>\n",
       "    </tr>\n",
       "  </tbody>\n",
       "</table>\n",
       "</div>"
      ],
      "text/plain": [
       "                           name  \\\n",
       "0                Coffee Monster   \n",
       "1                Coffee Factory   \n",
       "2  Cafe Grumpy - Manhattan West   \n",
       "3              Coffee Addiction   \n",
       "\n",
       "                                            address  \n",
       "0               123 Fake Street, New York, NY 10022  \n",
       "1                 622 Avenue R, New York, NY, 10044  \n",
       "2  450 W 33rd St, New York, NY 10001, United States  \n",
       "3          -23 Waffle House Way, New York, NY 10033  "
      ]
     },
     "execution_count": 17,
     "metadata": {},
     "output_type": "execute_result"
    }
   ],
   "source": [
    "df.address = df['address'].apply(lambda x: (', ').join(x.split(', ')[-4:]))\n",
    "df"
   ]
  },
  {
   "cell_type": "code",
   "execution_count": 18,
   "id": "e0f5ef9a-afac-448a-8762-ba513f093d59",
   "metadata": {},
   "outputs": [],
   "source": [
    "npt = 'b'"
   ]
  },
  {
   "cell_type": "code",
   "execution_count": 20,
   "id": "8b704230-e004-4833-a055-643e277d961d",
   "metadata": {},
   "outputs": [
    {
     "data": {
      "text/plain": [
       "True"
      ]
     },
     "execution_count": 20,
     "metadata": {},
     "output_type": "execute_result"
    }
   ],
   "source": [
    "npt != 0"
   ]
  }
 ],
 "metadata": {
  "kernelspec": {
   "display_name": "Python 3 (ipykernel)",
   "language": "python",
   "name": "python3"
  },
  "language_info": {
   "codemirror_mode": {
    "name": "ipython",
    "version": 3
   },
   "file_extension": ".py",
   "mimetype": "text/x-python",
   "name": "python",
   "nbconvert_exporter": "python",
   "pygments_lexer": "ipython3",
   "version": "3.9.12"
  }
 },
 "nbformat": 4,
 "nbformat_minor": 5
}
