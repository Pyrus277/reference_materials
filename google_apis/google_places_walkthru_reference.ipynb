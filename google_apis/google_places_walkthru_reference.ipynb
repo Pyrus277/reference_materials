{
 "cells": [
  {
   "cell_type": "markdown",
   "id": "7173468c-d1f3-4719-a9f6-af3d1b403792",
   "metadata": {},
   "source": [
    "StudySpotter -- Perry Fox -- 8/3/2023\n",
    "\n",
    "References:    \n",
    "[Article](https://medium.com/p/17e48f8f25b1)  \n",
    "[Places API overview and docs](https://developers.google.com/maps/documentation/places/web-service/overview)    \n",
    "[Text Search section](https://developers.google.com/maps/documentation/places/web-service/search-text)  \n",
    "[Python Requests library](https://realpython.com/python-requests/)\n",
    "  \n",
    "[API Credentials Page for key](https://console.cloud.google.com/apis/credentials?project=testing-330118)"
   ]
  },
  {
   "cell_type": "markdown",
   "id": "d4bcc196-5217-49b5-878f-127225ddd2c5",
   "metadata": {},
   "source": [
    "# Gathering Candidate Study/Work Spots\n",
    "\n",
    "## Overview\n",
    "**Purpose:** This notebook will be used to gather candidate Spot names and addresses using the `Google Places API` for further research and scouting. In the prototype phase, this will just gather cafes in Manhattan, but the functions can be repurposed for a wider scope later on.  \n",
    "  \n",
    "**Google Maps API:** To automate the process of a searching for a text string in Google Maps we'll construct a URL to access the Google Maps API. We'll specify that we want to use the Place API, `/place`, with the the text search component, `/textsearch`:       \n",
    "- `Base URL = https://maps.googleapis.com/maps/api/place/textsearch/`  <br>  \n",
    "\n",
    "With this, we can append an ambiguous address query (a text string), along with a place type keyword ([full list of keywords](https://developers.google.com/maps/documentation/places/web-service/supported_types)), among other optional parameters, to constrain the results \n",
    "  \n",
    "\n",
    "**API Output:** The API will return a list of up to 60 establishments results across 3 pages, 20 per page, in a JSON object that includes metadata.    \n",
    "**Costs:**  \\\\$40 for every 1,000 requests. \\\\$200 free/month per individual account. About 5,000 free requests before you start paying (each page = 1 request). \n",
    "  \n",
    "**Downstream:** The relevant data extracted from the JSON object will then be fed into our `spots_master_list` Sheets file which will undergo further evaluation. "
   ]
  },
  {
   "cell_type": "markdown",
   "id": "17c00cda-5367-4dcc-8c78-893394b2843e",
   "metadata": {},
   "source": [
    "## Code\n",
    "The rest of this notebook will be in two sections: \n",
    "- A broken down walkthrough of the functionality so the process can be easily understood and improved upon\n",
    "- The same code contained in a function that can be repurposed for other areas beyond Manhattan"
   ]
  },
  {
   "cell_type": "markdown",
   "id": "8792856a-a40f-414e-b82a-9014547a7e2f",
   "metadata": {},
   "source": [
    "### Code breakdown"
   ]
  },
  {
   "cell_type": "markdown",
   "id": "b3bc1209-b45b-4572-a636-f05438165c3b",
   "metadata": {},
   "source": [
    "User inputs: \n",
    "- zip codes \n",
    "- URL parameters (search string, place keywords)"
   ]
  },
  {
   "cell_type": "markdown",
   "id": "6a7de969-9fa4-4aac-b50a-a5c7ef51a634",
   "metadata": {},
   "source": [
    "Here, for the purpose of investigation, we'll make the GET request with the following specified parameters:\n",
    "- search sting: \"coffee shop nyc 10011\"\n",
    "- keyword: cafe"
   ]
  },
  {
   "cell_type": "markdown",
   "id": "6c878501-31a5-4b81-b4c6-96cba4d3b17f",
   "metadata": {},
   "source": [
    "---"
   ]
  },
  {
   "cell_type": "markdown",
   "id": "2f812481-e605-4168-81e2-c994e84d1d0c",
   "metadata": {},
   "source": [
    "#### Get data from API"
   ]
  },
  {
   "cell_type": "code",
   "execution_count": 1,
   "id": "d6dcb475-297c-418d-b2ce-a9cfbd7427a1",
   "metadata": {},
   "outputs": [],
   "source": [
    "import requests, json\n",
    "import time # time.sleep(2) required, won't return results if you request all at once with no breaks\n",
    "\n",
    "apikey = ,
    "\n",
    "url_root = 'https://maps.googleapis.com/maps/api/place/textsearch/json?'\n",
    "query = 'coffee+nyc+10011'\n",
    "type_keyword = 'cafe' # ['bakery','book_store','cafe',]\n",
    "\n",
    "# key value labels come from the docs. 'key' and 'query' required, 'type' is an optional\n",
    "params = {\n",
    "    'key' : apikey,\n",
    "    'query': query,\n",
    "    'type': type_keyword,\n",
    "    'pagetoken': None  # This is where a returned `next_page_token` would go.\n",
    "}\n",
    "\n",
    "# making get request\n",
    "response = requests.get(url_root, params=params)"
   ]
  },
  {
   "cell_type": "code",
   "execution_count": 2,
   "id": "b25ad721-fa40-4df8-8cd4-e2e202fc19e3",
   "metadata": {},
   "outputs": [
    {
     "data": {
      "text/plain": [
       "200"
      ]
     },
     "execution_count": 2,
     "metadata": {},
     "output_type": "execute_result"
    }
   ],
   "source": [
    "# confirm the status code, 200 means OK\n",
    "# Note for error catching: if you use this method in a conditional expression it will evaluate\n",
    "# to True if 200 <= status code <= 400, else False. Pretty cool.\n",
    "response.status_code"
   ]
  },
  {
   "cell_type": "code",
   "execution_count": 3,
   "id": "a6a51a82-33b6-4158-b07c-02205545c81f",
   "metadata": {},
   "outputs": [
    {
     "data": {
      "text/plain": [
       "'https://maps.googleapis.com/maps/api/place/textsearch/json?key='"
      ]
     },
     "execution_count": 3,
     "metadata": {},
     "output_type": "execute_result"
    }
   ],
   "source": [
    "# check out the url we constucted for the request. (Great for debugging!)\n",
    "response.url"
   ]
  },
  {
   "cell_type": "markdown",
   "id": "cf99aead-ed68-4281-bc1a-c5a376fb0a86",
   "metadata": {},
   "source": [
    "#### Examine and get data from JSON response"
   ]
  },
  {
   "cell_type": "code",
   "execution_count": 4,
   "id": "62d920ac-ec4f-4764-afda-fd5a238dc14c",
   "metadata": {},
   "outputs": [
    {
     "data": {
      "text/plain": [
       "requests.models.Response"
      ]
     },
     "execution_count": 4,
     "metadata": {},
     "output_type": "execute_result"
    }
   ],
   "source": [
    "# not quite a json object....\n",
    "type(response)"
   ]
  },
  {
   "cell_type": "code",
   "execution_count": 5,
   "id": "ab8de1b3-a4a2-4885-a0dd-2a2439afc2a5",
   "metadata": {},
   "outputs": [
    {
     "data": {
      "text/plain": [
       "dict_keys(['html_attributions', 'results', 'status'])"
      ]
     },
     "execution_count": 5,
     "metadata": {},
     "output_type": "execute_result"
    }
   ],
   "source": [
    "# need to convert type here and then we can start investigating\n",
    "spots_json = response.json()\n",
    "spots_json.keys()"
   ]
  },
  {
   "cell_type": "code",
   "execution_count": 6,
   "id": "953950a0-2de3-41f8-9cda-1311930cb027",
   "metadata": {},
   "outputs": [
    {
     "data": {
      "text/plain": [
       "False"
      ]
     },
     "execution_count": 6,
     "metadata": {},
     "output_type": "execute_result"
    }
   ],
   "source": [
    "'next_page_token' in spots_json.keys()"
   ]
  },
  {
   "cell_type": "code",
   "execution_count": 7,
   "id": "5d69eccc-4485-4b7d-b900-11c0b31674f8",
   "metadata": {},
   "outputs": [
    {
     "data": {
      "text/plain": [
       "[]"
      ]
     },
     "execution_count": 7,
     "metadata": {},
     "output_type": "execute_result"
    }
   ],
   "source": [
    "spots_json['html_attributions']"
   ]
  },
  {
   "cell_type": "code",
   "execution_count": 8,
   "id": "e299601e-874c-4592-9949-205596d9a9fa",
   "metadata": {},
   "outputs": [
    {
     "ename": "KeyError",
     "evalue": "'next_page_token'",
     "output_type": "error",
     "traceback": [
      "\u001b[1;31m---------------------------------------------------------------------------\u001b[0m",
      "\u001b[1;31mKeyError\u001b[0m                                  Traceback (most recent call last)",
      "Input \u001b[1;32mIn [8]\u001b[0m, in \u001b[0;36m<cell line: 1>\u001b[1;34m()\u001b[0m\n\u001b[1;32m----> 1\u001b[0m npt \u001b[38;5;241m=\u001b[39m \u001b[43mspots_json\u001b[49m\u001b[43m[\u001b[49m\u001b[38;5;124;43m'\u001b[39;49m\u001b[38;5;124;43mnext_page_token\u001b[39;49m\u001b[38;5;124;43m'\u001b[39;49m\u001b[43m]\u001b[49m\n\u001b[0;32m      2\u001b[0m npt\n",
      "\u001b[1;31mKeyError\u001b[0m: 'next_page_token'"
     ]
    }
   ],
   "source": [
    "npt = spots_json['next_page_token']\n",
    "npt"
   ]
  },
  {
   "cell_type": "markdown",
   "id": "7bf288ff-2267-4f9b-bb77-31811b79a16d",
   "metadata": {},
   "source": [
    "** This token is then used in a new request. Pass this value to the `pagetoken` parameter of a new request to see the next set of results. **\n",
    "Notes: \n",
    "- setting the pagetoken will cause any other parameters to be ignored. \n",
    "- Each request, including using the `next_page_token` counts as a single request. i.e. max 20 results per request!\n",
    "- There is a delay of a few seconds b/w when a `next_page_token` is issued and when it will be valid (docs don't get more specific than this). Try different time.sleep() values. Not waiting long enough results in an `INVALID_REQUEST` response. \n",
    "- !! If there is no next_page_token, the key won't even be present in the .keys() output--This is the point where you check for the omission !!"
   ]
  },
  {
   "cell_type": "code",
   "execution_count": 9,
   "id": "10467377-fd42-4b2f-88c2-3fb2be633671",
   "metadata": {},
   "outputs": [
    {
     "data": {
      "text/plain": [
       "'OK'"
      ]
     },
     "execution_count": 9,
     "metadata": {},
     "output_type": "execute_result"
    }
   ],
   "source": [
    "spots_json['status'] # might want to set up a catch in case a future request is like Gerard Way"
   ]
  },
  {
   "cell_type": "markdown",
   "id": "9f9953cc-d6c7-430f-8467-f30974648e59",
   "metadata": {},
   "source": [
    "`results` contains what we're ultimately looking for-- establishment names and addresses.."
   ]
  },
  {
   "cell_type": "code",
   "execution_count": 10,
   "id": "f2d57ad8-f64b-4c08-b62f-98fcb7d9644a",
   "metadata": {},
   "outputs": [
    {
     "name": "stdout",
     "output_type": "stream",
     "text": [
      "Results is a <class 'list'> with 3 items\n"
     ]
    }
   ],
   "source": [
    "print(f\"Results is a {type(spots_json['results'])} with {len(spots_json['results'])} items\") \n"
   ]
  },
  {
   "cell_type": "markdown",
   "id": "eb899a9e-335a-4c52-b170-5013c5070f46",
   "metadata": {},
   "source": [
    "Each item in this list contains information about one of our search results."
   ]
  },
  {
   "cell_type": "code",
   "execution_count": 11,
   "id": "3cf6b3b0-7412-4bbd-8787-1f8fc9019d24",
   "metadata": {},
   "outputs": [
    {
     "name": "stdout",
     "output_type": "stream",
     "text": [
      "{'business_status': 'OPERATIONAL',\n",
      " 'formatted_address': '197 E 3rd St, New York, NY 10009, United States',\n",
      " 'geometry': {'location': {'lat': 40.723004, 'lng': -73.983206},\n",
      "              'viewport': {'northeast': {'lat': 40.72426757989272,\n",
      "                                         'lng': -73.98191917010728},\n",
      "                           'southwest': {'lat': 40.72156792010728,\n",
      "                                         'lng': -73.98461882989271}}},\n",
      " 'icon': 'https://maps.gstatic.com/mapfiles/place_api/icons/v1/png_71/shopping-71.png',\n",
      " 'icon_background_color': '#4B96F3',\n",
      " 'icon_mask_base_uri': 'https://maps.gstatic.com/mapfiles/place_api/icons/v2/shopping_pinlet',\n",
      " 'name': 'Book Club',\n",
      " 'opening_hours': {'open_now': True},\n",
      " 'photos': [{'height': 6240,\n",
      "             'html_attributions': ['<a '\n",
      "                                   'href=\"https://maps.google.com/maps/contrib/103976492282669338352\">Yusuf '\n",
      "                                   'Esenboga</a>'],\n",
      "             'photo_reference': 'AUacShhLL-afrLtjJYf1UX5fI-G2PElWnbkldPFix04P7igN4XbbDOxOC4A9OdyiD5GVkSiLbf3pLDr3ZYOEcmsQCZPaU1MuIFiWW8x906iqfds1K_pXgSm4iU5xtd-9Y6XecT5jzl51Gm7AkuffZCYdczlRgWiypE8UVA2CBkR54W0TP8-n',\n",
      "             'width': 3510}],\n",
      " 'place_id': 'ChIJwxHj5iBZwokR_pY9e5OhHNs',\n",
      " 'plus_code': {'compound_code': 'P2F8+6P New York',\n",
      "               'global_code': '87G8P2F8+6P'},\n",
      " 'rating': 4.7,\n",
      " 'reference': 'ChIJwxHj5iBZwokR_pY9e5OhHNs',\n",
      " 'types': ['book_store',\n",
      "           'cafe',\n",
      "           'bar',\n",
      "           'point_of_interest',\n",
      "           'food',\n",
      "           'store',\n",
      "           'establishment'],\n",
      " 'user_ratings_total': 491}\n"
     ]
    }
   ],
   "source": [
    "# take a look at an entry\n",
    "from pprint import pprint\n",
    "pprint(spots_json['results'][0])"
   ]
  },
  {
   "cell_type": "code",
   "execution_count": 12,
   "id": "1636cf37-813e-420c-88fd-4e95127ff133",
   "metadata": {},
   "outputs": [
    {
     "data": {
      "text/plain": [
       "dict_keys(['business_status', 'formatted_address', 'geometry', 'icon', 'icon_background_color', 'icon_mask_base_uri', 'name', 'opening_hours', 'photos', 'place_id', 'plus_code', 'rating', 'reference', 'types', 'user_ratings_total'])"
      ]
     },
     "execution_count": 12,
     "metadata": {},
     "output_type": "execute_result"
    }
   ],
   "source": [
    "spots_json['results'][0].keys()"
   ]
  },
  {
   "cell_type": "markdown",
   "id": "ff2a54fe-bdb8-4867-9e50-0e112c87a961",
   "metadata": {},
   "source": [
    "Now we're zeroing in. Make a list from all the `name` and `formatted_address` fields:"
   ]
  },
  {
   "cell_type": "code",
   "execution_count": 13,
   "id": "38c02ea9-5534-4ab3-ba98-728b24e76c1c",
   "metadata": {},
   "outputs": [],
   "source": [
    "import pandas as pd"
   ]
  },
  {
   "cell_type": "code",
   "execution_count": 14,
   "id": "1b4c5f61-d08a-4bdf-a30b-e077a35c4867",
   "metadata": {},
   "outputs": [],
   "source": [
    "place_id = []\n",
    "name = []\n",
    "address = []\n",
    "for i in range(len(spots_json['results'])):\n",
    "    name.append(spots_json['results'][i]['name'])\n",
    "    address.append(spots_json['results'][i]['formatted_address'])\n",
    "    place_id.append(spots_json['results'][i]['place_id'])"
   ]
  },
  {
   "cell_type": "code",
   "execution_count": 17,
   "id": "26fdd903-ab11-45ae-82b8-b29ee4028dbb",
   "metadata": {},
   "outputs": [
    {
     "data": {
      "text/html": [
       "<div>\n",
       "<style scoped>\n",
       "    .dataframe tbody tr th:only-of-type {\n",
       "        vertical-align: middle;\n",
       "    }\n",
       "\n",
       "    .dataframe tbody tr th {\n",
       "        vertical-align: top;\n",
       "    }\n",
       "\n",
       "    .dataframe thead th {\n",
       "        text-align: right;\n",
       "    }\n",
       "</style>\n",
       "<table border=\"1\" class=\"dataframe\">\n",
       "  <thead>\n",
       "    <tr style=\"text-align: right;\">\n",
       "      <th></th>\n",
       "      <th>place_id</th>\n",
       "      <th>name</th>\n",
       "      <th>address</th>\n",
       "    </tr>\n",
       "  </thead>\n",
       "  <tbody>\n",
       "    <tr>\n",
       "      <th>0</th>\n",
       "      <td>ChIJwxHj5iBZwokR_pY9e5OhHNs</td>\n",
       "      <td>Book Club</td>\n",
       "      <td>197 E 3rd St, New York, NY 10009, United States</td>\n",
       "    </tr>\n",
       "    <tr>\n",
       "      <th>1</th>\n",
       "      <td>ChIJSaRjC49ZwokR402Rpxj6i9Q</td>\n",
       "      <td>Housing Works Bookstore</td>\n",
       "      <td>126 Crosby St, New York, NY 10012, United States</td>\n",
       "    </tr>\n",
       "    <tr>\n",
       "      <th>2</th>\n",
       "      <td>ChIJw2lMFL9ZwokRN70Y5-MQDow</td>\n",
       "      <td>Posman Books</td>\n",
       "      <td>75 9th Ave, New York, NY 10011, United States</td>\n",
       "    </tr>\n",
       "  </tbody>\n",
       "</table>\n",
       "</div>"
      ],
      "text/plain": [
       "                      place_id                     name  \\\n",
       "0  ChIJwxHj5iBZwokR_pY9e5OhHNs                Book Club   \n",
       "1  ChIJSaRjC49ZwokR402Rpxj6i9Q  Housing Works Bookstore   \n",
       "2  ChIJw2lMFL9ZwokRN70Y5-MQDow             Posman Books   \n",
       "\n",
       "                                            address  \n",
       "0   197 E 3rd St, New York, NY 10009, United States  \n",
       "1  126 Crosby St, New York, NY 10012, United States  \n",
       "2     75 9th Ave, New York, NY 10011, United States  "
      ]
     },
     "execution_count": 17,
     "metadata": {},
     "output_type": "execute_result"
    }
   ],
   "source": [
    "df = pd.DataFrame({\n",
    "              'place_id':place_id,\n",
    "              'name':name, \n",
    "              'address':address})\n",
    "df"
   ]
  },
  {
   "cell_type": "markdown",
   "id": "57e7fc6f-2486-4faf-98ec-4343b344ed57",
   "metadata": {},
   "source": [
    "And there it is! \n",
    "Next step is to put this all in one function with some error catching lines.  \n",
    "Also need a validation function.  \n",
    "  \n",
    "Plan is to then make a script that takes user input of list a zip codes, and list of search strings.\n",
    "- For each zip code, and for each search string, make a request, validate the data and append it to a dataframe.\n",
    "- At the end of each request, check if Next Page Token is not null, and if so run another request before moving on to the next search string or zip code. \n",
    "- Once done with the iterations, the script should append the data of the complete dataframe to the master_list tab in spots_master_list on Google Sheets. "
   ]
  },
  {
   "cell_type": "markdown",
   "id": "83a18a66-13d1-4a1a-8658-2a14f14fcffb",
   "metadata": {},
   "source": [
    "---"
   ]
  }
 ],
 "metadata": {
  "kernelspec": {
   "display_name": "Python 3 (ipykernel)",
   "language": "python",
   "name": "python3"
  },
  "language_info": {
   "codemirror_mode": {
    "name": "ipython",
    "version": 3
   },
   "file_extension": ".py",
   "mimetype": "text/x-python",
   "name": "python",
   "nbconvert_exporter": "python",
   "pygments_lexer": "ipython3",
   "version": "3.9.12"
  }
 },
 "nbformat": 4,
 "nbformat_minor": 5
}
