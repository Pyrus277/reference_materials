{
 "cells": [
  {
   "cell_type": "markdown",
   "id": "de3918ef-7984-45d3-b21f-5f3f6461eab5",
   "metadata": {},
   "source": [
    "# Statistics\n",
    "\n",
    "## Estimating a population mean for when population std dev $\\sigma$ is known.\n",
    "Not realistic, but this is the groundwork for t-tests. "
   ]
  },
  {
   "cell_type": "markdown",
   "id": "a48f142b-a1a9-4780-b4c1-8182d1ff30e4",
   "metadata": {},
   "source": [
    "Example:\n",
    "Random sample of 40 students. Avg resting heart rate is 76.3bpm.  \n",
    "Assume population std dev is 12.5bpm.  \n",
    "Construct a 99% confidence interval for the mean resting heart rate of the population."
   ]
  },
  {
   "cell_type": "code",
   "execution_count": 59,
   "id": "3b46fec2-e8c7-47df-a230-79d9b8e9b7a4",
   "metadata": {},
   "outputs": [],
   "source": [
    "from scipy.stats import norm\n",
    "import numpy as np"
   ]
  },
  {
   "cell_type": "code",
   "execution_count": 34,
   "id": "720630e3-8537-4635-9ada-f68fc284dd2d",
   "metadata": {},
   "outputs": [],
   "source": [
    "# setup our variables from the given info\n",
    "n = 40\n",
    "x_bar = 76.3\n",
    "sigma = 12.5\n",
    "ci = .99 # confidence interval\n",
    "alpha = 1- ci"
   ]
  },
  {
   "cell_type": "code",
   "execution_count": 35,
   "id": "d28ef5f7-be10-4724-871d-c608d4a7128a",
   "metadata": {},
   "outputs": [
    {
     "data": {
      "text/plain": [
       "2.5758293035489004"
      ]
     },
     "execution_count": 35,
     "metadata": {},
     "output_type": "execute_result"
    }
   ],
   "source": [
    "# find the crit value\n",
    "crit_val = norm.ppf(alpha/2) * -1\n",
    "crit_val"
   ]
  },
  {
   "cell_type": "markdown",
   "id": "4baab438-4378-414a-81b2-2f83d480de3f",
   "metadata": {},
   "source": [
    "Next, solve for margin of error E, according to the following equation\n",
    "  \n",
    "$ \\normalsize E = Z_{\\alpha/2} * \\frac{\\sigma}{\\sqrt{n}}\n",
    "$"
   ]
  },
  {
   "cell_type": "code",
   "execution_count": 38,
   "id": "184757c7-1640-4fa6-9510-ae99d6948c9e",
   "metadata": {},
   "outputs": [
    {
     "data": {
      "text/plain": [
       "5.090929664387351"
      ]
     },
     "execution_count": 38,
     "metadata": {},
     "output_type": "execute_result"
    }
   ],
   "source": [
    "E = crit_val * (sigma/np.sqrt(n))\n",
    "E"
   ]
  },
  {
   "cell_type": "markdown",
   "id": "df72a9ca-11e4-4406-91b6-98201072afe0",
   "metadata": {},
   "source": [
    "Now we can interpret:"
   ]
  },
  {
   "cell_type": "code",
   "execution_count": 39,
   "id": "e7813c29-c0f3-4112-9b4d-d94956ce6814",
   "metadata": {},
   "outputs": [
    {
     "name": "stdout",
     "output_type": "stream",
     "text": [
      "Lower bound= 71.21\n",
      "Upper bound= 81.39\n"
     ]
    }
   ],
   "source": [
    "lb = round(x_bar-E,2)\n",
    "ub = round(x_bar+E,2)\n",
    "\n",
    "print(f'Lower bound= {lb}')\n",
    "print(f'Upper bound= {ub}')"
   ]
  },
  {
   "cell_type": "markdown",
   "id": "7c68f592-3e29-4e09-a7e0-1293930e64cf",
   "metadata": {},
   "source": [
    "We can say with 99% certainty that the average resting heart rate of the population is within the range $ 71.21 < \\mu < 81.39 $"
   ]
  },
  {
   "cell_type": "markdown",
   "id": "bb376ce6-e98d-43ad-93a6-b6592f5cb674",
   "metadata": {},
   "source": [
    "---"
   ]
  },
  {
   "cell_type": "markdown",
   "id": "0d878dc3-23ed-411b-8cb5-d4c9c1c78a06",
   "metadata": {},
   "source": [
    "## T-Score: For estimating a population mean for when you know nothing about the population mean $\\mu$\n",
    "A much more realistic situation! \n",
    "If you don't know $\\sigma$, you can't use a z-score. Instead, we use a t-score.  \n",
    "What we need:  \n",
    "1. Random sample\n",
    "2. n > 30 or population known to be normally distributed  \n",
    "  \n",
    "Recall:  \n",
    "$ \\normalsize Z = \\frac{\\bar{X}-\\mu}{\\sigma/\\sqrt{n}} $   \n",
    "  \n",
    "For t, we just make a modification:  \n",
    "$ \\normalsize T = \\frac{\\bar{X}-\\mu}{s/\\sqrt{n}} $  \n",
    "\n",
    "Critical values are given by $ \\normalsize t_{\\alpha/2} $  \n",
    "  \n",
    "T distribution uses degress of freedom, n - 1.  \n",
    "You're often using t-score for small samples like n < 30.  \n",
    "  \n",
    "**To find a t critical value with python:  \n",
    "`scipy.stats.t.ppf(q, df)`  \n",
    "Where   \n",
    "q = significance level (.05, .025, etc)  \n",
    "df = degrees of freedom  \n",
    "  \n",
    "!! As sample size grows, the t-score approaches the z-score !!  \n",
    "  \n",
    "Hey, let's get an example:"
   ]
  },
  {
   "cell_type": "markdown",
   "id": "04a82f53-52c4-4245-a86a-7a7ca47c39de",
   "metadata": {},
   "source": [
    "Construct a 95% confidence interval for avg age of people denied a promotion.    \n",
    "A random sample of 23 people where the average age was 47, with a standard deviation of 7.2.   \n",
    "Assume the sample comes from a normally distributed population.   "
   ]
  },
  {
   "cell_type": "code",
   "execution_count": 40,
   "id": "d11a8a35-6b14-4cd1-853d-338431b178da",
   "metadata": {},
   "outputs": [],
   "source": [
    "from scipy.stats import t"
   ]
  },
  {
   "cell_type": "code",
   "execution_count": 41,
   "id": "0ad6cbdc-19f9-4e42-b941-420045ebc520",
   "metadata": {},
   "outputs": [],
   "source": [
    "n = 23\n",
    "s = 7.2 # sample std dev\n",
    "x_bar = 47 # sample mean\n",
    "df = n-1\n",
    "ci = .95 # confidence interval\n",
    "alpha = 1-ci # outside the bounds of the ci"
   ]
  },
  {
   "cell_type": "code",
   "execution_count": 42,
   "id": "55a159fb-3282-42a5-8ff1-ac3cf618fd0e",
   "metadata": {},
   "outputs": [
    {
     "data": {
      "text/plain": [
       "2.0738730679040147"
      ]
     },
     "execution_count": 42,
     "metadata": {},
     "output_type": "execute_result"
    }
   ],
   "source": [
    "t_crit_val = t.ppf((alpha/2), df) * -1\n",
    "t_crit_val"
   ]
  },
  {
   "cell_type": "code",
   "execution_count": 43,
   "id": "b2785e63-b447-44bf-bad0-6606a18f2071",
   "metadata": {},
   "outputs": [
    {
     "data": {
      "text/plain": [
       "3.1135134785958267"
      ]
     },
     "execution_count": 43,
     "metadata": {},
     "output_type": "execute_result"
    }
   ],
   "source": [
    "E = t_crit_val * (s/np.sqrt(n))\n",
    "E"
   ]
  },
  {
   "cell_type": "code",
   "execution_count": 44,
   "id": "2a28e693-bdd5-472e-b198-e039c4b93cdb",
   "metadata": {},
   "outputs": [
    {
     "name": "stdout",
     "output_type": "stream",
     "text": [
      "Lower bound= 43.89\n",
      "Upper bound= 50.11\n"
     ]
    }
   ],
   "source": [
    "lb = round(x_bar-E,2)\n",
    "ub = round(x_bar+E,2)\n",
    "\n",
    "print(f'Lower bound= {lb}')\n",
    "print(f'Upper bound= {ub}')"
   ]
  },
  {
   "cell_type": "markdown",
   "id": "37f2c319-eaac-4278-97d8-0f347bfb813a",
   "metadata": {},
   "source": [
    "We can say with 95% certainty that the average resting heart rate of the population is within the range: $ 43.89 < \\mu < 50.11 $"
   ]
  },
  {
   "cell_type": "markdown",
   "id": "da11e668-a140-4f1b-b0a2-b258e008ec24",
   "metadata": {},
   "source": [
    "---"
   ]
  },
  {
   "cell_type": "markdown",
   "id": "b5a7f683-349d-4a47-83fc-9cb8e8ace723",
   "metadata": {},
   "source": [
    "## Chi-Squared: Estimate population variance \n",
    "$ \\large \\sigma^2 = \\frac{(n-1)s^2}{\\chi^2}\n",
    "$\n",
    "The chi-sq distribution is used to estimate the population variance $\\sigma^2$, which gives us the estimated population standard deviation, $\\sigma$, within a specified confidence interval.  \n",
    "  \n",
    "Note, chi-sq distribution is not symmetrical. Use it like this:\n",
    "$$ \\large \\frac{(n-1)s^2}{\\chi^2_R} < \\sigma^2 < \\frac{(n-1)s^2}{\\chi^2_L}\n",
    "$$\n",
    "\n",
    "\n",
    "\n",
    "Example and Procedure:  \n",
    "A sample of appliances has a voltage standard deviation of 0.15 volts.    \n",
    "Construct a 95% confidence interval for population variance and stdev. "
   ]
  },
  {
   "cell_type": "code",
   "execution_count": 51,
   "id": "1acc8fe7-6c6d-425b-8710-c2102fe5fc08",
   "metadata": {},
   "outputs": [
    {
     "name": "stdout",
     "output_type": "stream",
     "text": [
      "Right crit value: 19.02276779864163\n",
      "Left crit value: 2.7003894999803584\n"
     ]
    }
   ],
   "source": [
    "from scipy.stats import chi2\n",
    "\n",
    "# given info\n",
    "s = 0.15\n",
    "n = 10\n",
    "df = n-1\n",
    "conf_lvl = 0.95\n",
    "alpha = 1 - conf_lvl\n",
    "\n",
    "# break out the sides\n",
    "left_conf_lvl = alpha/2 # 0.025\n",
    "right_conf_lvl = 1-(alpha/2) # 0.025\n",
    "\n",
    "# table values\n",
    "left_crit_val = chi2.ppf(left_conf_lvl, df)\n",
    "right_crit_val = chi2.ppf(right_conf_lvl, df)\n",
    "    \n",
    "print(f'Right crit value: {right_crit_val}')\n",
    "print(f'Left crit value: {left_crit_val}')"
   ]
  },
  {
   "cell_type": "markdown",
   "id": "cd09eae0-fe0c-4199-83be-5351ded1cf4f",
   "metadata": {},
   "source": [
    "$ \\chi^2_R = 19.023 $  \n",
    "  \n",
    "$ \\chi^2_L = 2.700 $"
   ]
  },
  {
   "cell_type": "code",
   "execution_count": 58,
   "id": "86843f0b-aac2-47e0-9a99-e9c31d020c3a",
   "metadata": {},
   "outputs": [
    {
     "name": "stdout",
     "output_type": "stream",
     "text": [
      "variance lower bound: 0.011\n",
      "variance upper bound: 0.075\n",
      "\n",
      "Stdev lower bound: 0.103\n",
      "Stdev upper bound: 0.274\n"
     ]
    }
   ],
   "source": [
    "# Use the equation\n",
    "var_lb = (n-1)*s**2 / right_crit_val\n",
    "var_ub = (n-1)*s**2 / left_crit_val\n",
    "\n",
    "print(f'variance lower bound: {round(var_lb,3)}')\n",
    "print(f'variance upper bound: {round(var_ub,3)}\\n')\n",
    "print(f'Stdev lower bound: {round(np.sqrt(var_lb),3)}')\n",
    "print(f'Stdev upper bound: {round(np.sqrt(var_ub),3)}')\n",
    "\n"
   ]
  },
  {
   "cell_type": "markdown",
   "id": "c36cf4a2-318e-4304-afff-27a795fcb1ad",
   "metadata": {},
   "source": [
    "And the interpretation:  \n",
    "We are 95% sure this is the most voltage can range by for these appliances.  \n",
    "\n",
    "$ 0.011v < \\sigma^2 < 0.075v $  \n",
    "$ 0.103 < \\sigma < 0.274 $"
   ]
  }
 ],
 "metadata": {
  "kernelspec": {
   "display_name": "Python 3 (ipykernel)",
   "language": "python",
   "name": "python3"
  },
  "language_info": {
   "codemirror_mode": {
    "name": "ipython",
    "version": 3
   },
   "file_extension": ".py",
   "mimetype": "text/x-python",
   "name": "python",
   "nbconvert_exporter": "python",
   "pygments_lexer": "ipython3",
   "version": "3.9.12"
  }
 },
 "nbformat": 4,
 "nbformat_minor": 5
}
