{
 "cells": [
  {
   "cell_type": "markdown",
   "id": "02376ebe-3cf4-4081-b0de-958e958dc4ae",
   "metadata": {},
   "source": [
    "Interpretation of content from *Baysean Statistics the Fun Way* by Will Kurt\n",
    "## Chapter 4: Binomial Probability Distribution"
   ]
  },
  {
   "cell_type": "code",
   "execution_count": 30,
   "id": "43b9fd51-1bed-42fc-b8df-74e9cd89362f",
   "metadata": {},
   "outputs": [],
   "source": [
    "import math\n",
    "import numpy as np\n",
    "from scipy.stats import binom\n",
    "import matplotlib.pyplot as plt"
   ]
  },
  {
   "cell_type": "markdown",
   "id": "fc6abd9b-b79f-44cc-bf0a-5b650d543b47",
   "metadata": {},
   "source": [
    "**Combinatorics** - Binomial Probability  \n",
    "\"n choose k,\" out of n trials, get k successes:  \n",
    "\n",
    "$ \\left( \\begin{array}{c} n \\\\ k \\end{array} \\right) = \\large\\frac{n!}{k!  (n-k)!} $\n",
    "\n",
    "To do this we can use `math.comb(n, k)`, reveals the number of ways it can happen:"
   ]
  },
  {
   "cell_type": "code",
   "execution_count": 2,
   "id": "9b6a9ed3-a25a-45bb-a172-0e1e6382d55e",
   "metadata": {},
   "outputs": [
    {
     "name": "stdout",
     "output_type": "stream",
     "text": [
      "There are 10 ways to get 2 successes out of 10 trials\n"
     ]
    }
   ],
   "source": [
    "# Out of 5 trials, get 2 successes:\n",
    "n = 5\n",
    "k = 2\n",
    "num_ways = math.comb(n, k)\n",
    "print(f'There are {num_ways} ways to get 2 successes out of 10 trials')"
   ]
  },
  {
   "cell_type": "markdown",
   "id": "b519cf3a-fc79-40ee-abed-914c637a1f60",
   "metadata": {},
   "source": [
    "Using this formula, we can combine it with the probabilities of the different outcomes, and plot the probabilities of *all outcomes* in a probability mass function:  \n",
    "  \n",
    "Probability of getting k successes (where p is prob success and q = 1-p (prob failure):\n",
    "$$ P(k) = pmf = \\large\\frac{n!}{k!  (n-k)!} * p^x * q^{(n-x)} $$  \n",
    "  \n",
    "In Python, we can do this with `binom.pmf(k,n,p)`  \n",
    "Visualize the binomial distribution for 10 coin flips"
   ]
  },
  {
   "cell_type": "code",
   "execution_count": 3,
   "id": "99747666-8182-4000-805d-34cf0cdb51ad",
   "metadata": {},
   "outputs": [],
   "source": [
    "n = 10 # 10 trials\n",
    "p = .5 # .5 chance of success\n",
    "k = list(range(0,11)) # a listing of all possible outcomes, i.e. number of successes,\n",
    "#  from 0 heads to 10 heads. "
   ]
  },
  {
   "cell_type": "code",
   "execution_count": 4,
   "id": "6c7fa89a-3d70-48cd-abc6-1a7e21cc8e28",
   "metadata": {},
   "outputs": [],
   "source": [
    "# pmf probability mass function\n",
    "probs = list(binom.pmf(k,n,p))  "
   ]
  },
  {
   "cell_type": "code",
   "execution_count": 5,
   "id": "4e7b6ae5-8055-4315-a2f2-facc937b389e",
   "metadata": {},
   "outputs": [
    {
     "data": {
      "image/png": "[encoded data removed]",
      "text/plain": [
       "<Figure size 432x288 with 1 Axes>"
      ]
     },
     "metadata": {
      "needs_background": "light"
     },
     "output_type": "display_data"
    }
   ],
   "source": [
    "# figure 4-1\n",
    "plt.bar(k, probs, color = 'maroon')\n",
    "plt.title(\"Binomial Distribution for 10 Coin Flips\")\n",
    "plt.xlabel(\"Number Heads, k\")\n",
    "plt.ylabel(\"Probability p\")\n",
    "plt.show()"
   ]
  },
  {
   "cell_type": "markdown",
   "id": "8e71198f-58a5-4016-9a8d-a99c5bd024f0",
   "metadata": {},
   "source": [
    "Visualize the binomial distribution for 10 rolls of a 6 sided die"
   ]
  },
  {
   "cell_type": "code",
   "execution_count": 6,
   "id": "f16c73ec-b08c-4bf0-90fb-5b680b3ac2a1",
   "metadata": {},
   "outputs": [],
   "source": [
    "n = 10\n",
    "p = 1/6\n",
    "k = list(range(0,11))"
   ]
  },
  {
   "cell_type": "code",
   "execution_count": 7,
   "id": "25d0eda6-8701-4bef-b15f-94426159188a",
   "metadata": {},
   "outputs": [],
   "source": [
    "probs = binom.pmf(k,n,p)"
   ]
  },
  {
   "cell_type": "code",
   "execution_count": 8,
   "id": "8d8ae9df-5f3c-466e-bba0-6a96ade0ccfb",
   "metadata": {},
   "outputs": [
    {
     "data": {
      "image/png": "[encoded data removed]",
      "text/plain": [
       "<Figure size 432x288 with 1 Axes>"
      ]
     },
     "metadata": {
      "needs_background": "light"
     },
     "output_type": "display_data"
    }
   ],
   "source": [
    "# figure 4-2\n",
    "plt.bar(k, probs, color = 'maroon')\n",
    "plt.title(\"Binomial Distribution for 10 Die Rolls\")\n",
    "plt.xlabel(\"Number of times 6 comes up, k\")\n",
    "plt.ylabel(\"Probability p\")\n",
    "plt.show()"
   ]
  },
  {
   "cell_type": "markdown",
   "id": "aec358b0-b41a-4a8f-ac6e-e8af37c77010",
   "metadata": {},
   "source": [
    "We can get a cumulative probability to reflect the probability of a range k and up, or down with  \n",
    "`binom.cdf(k,n,p)`"
   ]
  },
  {
   "cell_type": "code",
   "execution_count": 9,
   "id": "8f2f0ecb-aa7a-488b-a752-5114a3ac808c",
   "metadata": {},
   "outputs": [
    {
     "name": "stdout",
     "output_type": "stream",
     "text": [
      "Cumulative Probability for 8 or fewer successes: 0.9893\n",
      "Cumulative Probability for 9 or more successes: 0.0107\n"
     ]
    }
   ],
   "source": [
    "n = 10  # trials\n",
    "p = 0.5  # probability of success in each trial\n",
    "\n",
    "# Choose a specific point for which you want to calculate the cumulative probability\n",
    "k = 8  # number of successes\n",
    "\n",
    "# Calculate the cumulative probability using the cdf method\n",
    "cumulative_probability = binom.cdf(k, n, p)\n",
    "\n",
    "# up to k (left side)\n",
    "print(f\"Cumulative Probability for {k} or fewer successes: {cumulative_probability:.4f}\")\n",
    "# more than k, (right side)\n",
    "print(f\"Cumulative Probability for {k+1} or more successes: {1-cumulative_probability:.4f}\")\n"
   ]
  },
  {
   "cell_type": "markdown",
   "id": "66b81acf-1099-4967-8331-a140d736446a",
   "metadata": {},
   "source": [
    "### Chapter 4 Exercises\n",
    "#### 1. What are the params of the binom dist for the probability of rolling either a 1 or a 20 on a 20 sided die, if we roll the die 12 times?\n",
    "B(k; n, p) = B(1; 12, 1/10)"
   ]
  },
  {
   "cell_type": "code",
   "execution_count": 10,
   "id": "224f1bc3-a2cb-4bc7-8a77-2b4c3e6f255a",
   "metadata": {},
   "outputs": [
    {
     "name": "stdout",
     "output_type": "stream",
     "text": [
      "39.0%\n"
     ]
    }
   ],
   "source": [
    "k, b, p = 1, 12, 1/10\n",
    "print(f'{round(binom.pmf(k,n,p), 2)*100}%')"
   ]
  },
  {
   "cell_type": "markdown",
   "id": "ab50cd13-f3a7-4428-95f2-4b90d674b6bc",
   "metadata": {},
   "source": [
    "#### 2. Standard 52 card deck. Shuffle, draw and replace. How many ways can you pull just one ace in five pulls?  "
   ]
  },
  {
   "cell_type": "code",
   "execution_count": 11,
   "id": "cf3363ba-f961-4eb6-a170-dc01519281a4",
   "metadata": {},
   "outputs": [
    {
     "data": {
      "text/plain": [
       "5"
      ]
     },
     "execution_count": 11,
     "metadata": {},
     "output_type": "execute_result"
    }
   ],
   "source": [
    "# obviously 5, but in case the numbers were messiers, here it is:\n",
    "n = 5 # 5 pulls\n",
    "k = 1 # just one ace\n",
    "math.comb(n, k) "
   ]
  },
  {
   "cell_type": "markdown",
   "id": "25a340ec-8572-4d35-9dfd-1dd5b2b41588",
   "metadata": {},
   "source": [
    "#### 3. Continuing with the cards, what's the prob of pulling 5 aces in 10 pulls?\n",
    "This is a binomial probability question.  \n",
    "We've got 10 trials (n=10), looking for 5 successes (k=5), and the odds of a success on a single trial, considering we have replacement, is 4/52."
   ]
  },
  {
   "cell_type": "code",
   "execution_count": 12,
   "id": "37029fc1-b7f3-4e31-8ca4-910b0297073d",
   "metadata": {},
   "outputs": [
    {
     "name": "stdout",
     "output_type": "stream",
     "text": [
      " probability is 0.045%\n"
     ]
    }
   ],
   "source": [
    "k = 5\n",
    "n = 10\n",
    "p = 4/52\n",
    "print(f' probability is {round(binom.pmf(k,n,p)*100, 3)}%')"
   ]
  },
  {
   "cell_type": "markdown",
   "id": "72337ca3-1f5d-4715-ae60-1f200f6112db",
   "metadata": {},
   "source": [
    "#### 4. If you have a 1/5 probability of a job offer when you interview, and you interview at 7 companies a month, what's the probability you'll have at least 2 competing offers by the end of the month?\n",
    "Another binomial problem. 7 trials, probability of success 1/5, looking for 2 OR MORE successes."
   ]
  },
  {
   "cell_type": "code",
   "execution_count": 13,
   "id": "18a6338f-3f95-4cc3-b961-475f3dfdceb9",
   "metadata": {},
   "outputs": [
    {
     "name": "stdout",
     "output_type": "stream",
     "text": [
      "42.328%\n"
     ]
    }
   ],
   "source": [
    "# using pmf with a loop to get 2 and up.\n",
    "sum = 0 \n",
    "for i in range(2,8):\n",
    "    sum += binom.pmf(i,7,1/5)\n",
    "print(f'{round(100*sum,3)}%')"
   ]
  },
  {
   "cell_type": "code",
   "execution_count": 14,
   "id": "2d028c54-91bc-4542-a033-3bd0e864ca1f",
   "metadata": {},
   "outputs": [
    {
     "name": "stdout",
     "output_type": "stream",
     "text": [
      " probability is 42.328%\n"
     ]
    }
   ],
   "source": [
    "# using cdf... I guess it works like \"greater than k\" as in the next number up, \n",
    "# so we use k=1? Too lazy to check this docs, but this is how you get the correct answer. \n",
    "k = 1\n",
    "n = 7\n",
    "p = 1/5\n",
    "print(f' probability is {round((1-binom.cdf(k,n,p))*100, 3)}%')"
   ]
  },
  {
   "cell_type": "markdown",
   "id": "510961c2-0227-4f83-b06d-f8580f1020d0",
   "metadata": {},
   "source": [
    "#### 5. Continuing with the job example. You have 25 job interviews lined up next month. This will leave you exhausted and so the probability of success will drop to 1/10. You don't want to do 25 interviews unless doing so makes you twice as likely to get at least 2 offers. So should you do the 25, or just stick to the 7?"
   ]
  },
  {
   "cell_type": "code",
   "execution_count": 15,
   "id": "2cf553cf-31c6-42e5-a81f-bb32e950f92e",
   "metadata": {},
   "outputs": [
    {
     "name": "stdout",
     "output_type": "stream",
     "text": [
      " probability is 72.879%\n"
     ]
    }
   ],
   "source": [
    "k = 1\n",
    "n = 25\n",
    "p = 1/10\n",
    "print(f' probability is {round((1-binom.cdf(k,n,p))*100, 3)}%')"
   ]
  },
  {
   "cell_type": "markdown",
   "id": "96dbf490-f9bc-405d-a6c9-f5f6aa4bb108",
   "metadata": {},
   "source": [
    "That's a lot higher, but it's not twice as likely, so maybe don't do all those interviews."
   ]
  },
  {
   "cell_type": "markdown",
   "id": "c5d30366-8bb3-4372-b2d6-f41b72e97c93",
   "metadata": {},
   "source": [
    "---"
   ]
  },
  {
   "cell_type": "markdown",
   "id": "5f2ac32c-876b-44f1-ad7b-5b9728bc39d2",
   "metadata": {},
   "source": [
    "## Chapter 5: The Beta Distribution\n",
    "  \n",
    "\"Used to estimate the probability of an event for which you've already observed a number of trials and successful outcomes.\"\n",
    "Goal is to take in data and come up with *estimates* of probabilities. \n",
    "\n",
    "**Inference**: The task of figuring out probabilities based on data. "
   ]
  },
  {
   "cell_type": "markdown",
   "id": "d55f574e-e4a2-42ec-be79-e7dbd854a0a2",
   "metadata": {},
   "source": [
    "#### Example: Magic box that takes quarters. Sometimes it eats the quarter, sometimes it returns 2 quarters.\n",
    "\n",
    "Naive hypothesis is that we have a 50/50 chance to win or lose.     \n",
    "Gather data: We put in 41 quarters and keep track of the results:"
   ]
  },
  {
   "cell_type": "code",
   "execution_count": 16,
   "id": "d917dfe8-7674-43d1-8c4c-a207175283ce",
   "metadata": {},
   "outputs": [],
   "source": [
    "wins = 14\n",
    "losses = 27"
   ]
  },
  {
   "cell_type": "markdown",
   "id": "68bbe4a7-3817-4d0e-bfe7-35b696728f33",
   "metadata": {},
   "source": [
    "Updating our hypothesis:   \n",
    "$H_1$ is P(two coins) = 1/2  \n",
    "$H_2$ is P(two coins) = 14/41\n",
    "\n",
    "\"How probable is what we observed if $H_1$ were true vs $H_2$?\"  \n",
    "We can calculate this with binomial distribution!"
   ]
  },
  {
   "cell_type": "code",
   "execution_count": 25,
   "id": "d0a23f05-71dc-4c59-8d58-eeec91f5e5eb",
   "metadata": {},
   "outputs": [
    {
     "name": "stdout",
     "output_type": "stream",
     "text": [
      "The probability of observing 14 wins out of 41 attemps, given that the\n",
      "odds of a win are 1/2 is 0.016\n"
     ]
    }
   ],
   "source": [
    "# set up for binomial distribution:\n",
    "k = wins\n",
    "n = wins + losses\n",
    "p_h1 = 1/2 # probability of hypothesis 1\n",
    "p_h2 = 14/41 # probability of hypothesis 2\n",
    "\n",
    "print(f'''The probability of observing 14 wins out of 41 attemps, given that the\n",
    "odds of a win are 1/2 is {round(binom.pmf(k, n, p_h1), 3)}''')"
   ]
  },
  {
   "cell_type": "code",
   "execution_count": 26,
   "id": "df8c4bac-a3fe-4b75-996d-502c8c441501",
   "metadata": {},
   "outputs": [
    {
     "name": "stdout",
     "output_type": "stream",
     "text": [
      "The probability of observing 14 wins out of 41 attemps, given that the\n",
      "odds of a win are 14/41 is 0.13\n"
     ]
    }
   ],
   "source": [
    "print(f'''The probability of observing 14 wins out of 41 attemps, given that the\n",
    "odds of a win are 14/41 is {round(binom.pmf(k, n, p_h2), 3)}''')"
   ]
  },
  {
   "cell_type": "markdown",
   "id": "4378ba53-de7c-49fc-8f3f-d3e75cb0deea",
   "metadata": {},
   "source": [
    "It looks much more probable our hypothesis based on the data observed from 41 attemps is closer to the truth than the assumption the probability of winning is 50/50-- 13% vs 1.6%.\n",
    "  \n",
    "There are any number of different hypotheses we can make. Here is the plot for success probabilities from 0.1 to 0.9, increments of .1:"
   ]
  },
  {
   "cell_type": "code",
   "execution_count": 45,
   "id": "020edb43-c7e5-43a4-88ef-318a9b263c79",
   "metadata": {},
   "outputs": [],
   "source": [
    "p_range = np.arange(0.1, 1, 0.1)\n",
    "probs = binom.pmf(k, n, p_range)"
   ]
  },
  {
   "cell_type": "code",
   "execution_count": 48,
   "id": "a8bd99c8-d4f2-46b8-9368-c6248a9636dd",
   "metadata": {},
   "outputs": [
    {
     "data": {
      "image/png": "[encoded data removed]",
      "text/plain": [
       "<Figure size 432x288 with 1 Axes>"
      ]
     },
     "metadata": {
      "needs_background": "light"
     },
     "output_type": "display_data"
    }
   ],
   "source": [
    "plt.scatter(p_range, probs)\n",
    "plt.title(\"Probability of different values for p given observation\")\n",
    "plt.xlabel(\"p\")\n",
    "plt.ylabel(\"Probability\")\n",
    "plt.grid()"
   ]
  },
  {
   "cell_type": "markdown",
   "id": "6759aba8-ac78-4d3c-8b54-170b936c189b",
   "metadata": {},
   "source": [
    "(figure 5-1)  \n",
    "Here we have the probabilities of observing 14 wins and 27 losses given different hypotheses about the true probability of and individual success.  \n",
    "Next, to flesh out the pattern by trying more hypotheses (foreshadowing the use of beta distribution/calculus):"
   ]
  },
  {
   "cell_type": "code",
   "execution_count": 49,
   "id": "42f7d4b0-effc-4be4-b33a-4b728f14a247",
   "metadata": {},
   "outputs": [
    {
     "data": {
      "image/png": "[encoded data removed]",
      "text/plain": [
       "<Figure size 432x288 with 1 Axes>"
      ]
     },
     "metadata": {
      "needs_background": "light"
     },
     "output_type": "display_data"
    }
   ],
   "source": [
    "p_range = np.arange(0.1, 1, 0.01)\n",
    "probs = binom.pmf(k, n, p_range)\n",
    "plt.scatter(p_range, probs)\n",
    "plt.title(\"Probability of different values for p given observation\")\n",
    "plt.xlabel(\"p\")\n",
    "plt.ylabel(\"Probability\")\n",
    "plt.grid()"
   ]
  },
  {
   "cell_type": "markdown",
   "id": "9c8934a8-6ac3-42f2-9b8e-56eec87fcf99",
   "metadata": {},
   "source": [
    "(Figure 5-2)  \n",
    "PDF). This is similar to a probability mass function, but used for continuous values:\n",
    "\n",
    "$Beta(p; \\alpha, \\beta) = \\large\\frac{p^{\\alpha-1}*(1-p)^{\\beta-1}}{beta(\\alpha, \\beta)}$\n",
    "Where:  \n",
    "- p = probability of an event\n",
    "- $\\alpha$ = successes observed\n",
    "- $\\beta$ = fails observed\n",
    "\n",
    "In python we an use `scipy.stats`: `beta.pdf(k,n,p_range)`"
   ]
  },
  {
   "cell_type": "code",
   "execution_count": 88,
   "id": "417b3e88-25c8-452a-ae16-b68deaeddd8a",
   "metadata": {},
   "outputs": [
    {
     "data": {
      "image/png": "[encoded data removed]",
      "text/plain": [
       "<Figure size 432x288 with 1 Axes>"
      ]
     },
     "metadata": {
      "needs_background": "light"
     },
     "output_type": "display_data"
    }
   ],
   "source": [
    "from scipy.stats import beta\n",
    "\n",
    "# setup variables\n",
    "alpha = 14 # successes\n",
    "beta_val = 27 # fails\n",
    "x_vals = np.linspace(0,1, 1000) # x-axis\n",
    "# the usage of np.linspace makes for a visually smooth curve, but really\n",
    "# what is represented are infinite points on the x-axis, not just 1000\n",
    "\n",
    "# beta dist probability density function\n",
    "pdf_vals = beta.pdf(x_vals, alpha, beta_val) \n",
    "\n",
    "# plot\n",
    "\n",
    "plt.plot(x_vals, pdf_vals)\n",
    "plt.title(\"Distribution for Beta(14, 27)\")\n",
    "plt.xlabel(\"p\")\n",
    "plt.ylabel(\"Density\")\n",
    "plt.grid()\n",
    "plt.show()"
   ]
  },
  {
   "cell_type": "markdown",
   "id": "9d3d9a74-8003-467c-883d-6c3ba2cceabd",
   "metadata": {},
   "source": [
    "Figure 5-3"
   ]
  },
  {
   "cell_type": "markdown",
   "id": "08a1aaf1-e4ff-4fdc-a6ed-c9374ef411da",
   "metadata": {},
   "source": [
    "This distribution can be used to quantify exactly how strongly we believe that \"the probability that the true rate at which the box returns two quarters is less than 0.5. Just gotta integrate to find the relevant area under the curve. Easily done with Python:"
   ]
  },
  {
   "cell_type": "code",
   "execution_count": 73,
   "id": "44bef82d-d436-4661-8661-2655f1c8e342",
   "metadata": {},
   "outputs": [
    {
     "name": "stdout",
     "output_type": "stream",
     "text": [
      "The probability that the rate individual success is less than 0.5 is 0.9807613458578999\n"
     ]
    }
   ],
   "source": [
    "auc = beta.cdf(0.5, alpha, beta_val)\n",
    "print(f'The probability that the rate individual success is less than 0.5 is {auc}')"
   ]
  },
  {
   "cell_type": "markdown",
   "id": "7bb053de-096c-4128-b7ff-3c3ca6306bed",
   "metadata": {},
   "source": [
    "#### Reverse-Engineering the Gacha Game"
   ]
  },
  {
   "cell_type": "code",
   "execution_count": 82,
   "id": "d17e4dd4-305c-4e3f-851e-b532f4aea60a",
   "metadata": {},
   "outputs": [
    {
     "data": {
      "image/png": "[encoded data removed]",
      "text/plain": [
       "<Figure size 432x288 with 1 Axes>"
      ]
     },
     "metadata": {
      "needs_background": "light"
     },
     "output_type": "display_data"
    }
   ],
   "source": [
    "alpha = 5 # successes\n",
    "beta_val = 1195 # failures\n",
    "\n",
    "x_vals = np.linspace(0.0015,.01,1000)\n",
    "pdf_vals = beta.pdf(x_vals, alpha+1, beta_val+1)\n",
    "# adding 1 to these to avoid a div by zero error. \n",
    "# Look into additive, or \"laplace smoothing.\"\n",
    "# Introduces a weak prior assumption.\n",
    "\n",
    "plt.plot(x_vals, pdf_vals)\n",
    "plt.title(\"Pulling a Bradley Efron Card, Beta(5, 1195)\")\n",
    "plt.xlabel(\"p\")\n",
    "plt.ylabel(\"Density\")\n",
    "plt.grid()\n",
    "plt.show()"
   ]
  },
  {
   "cell_type": "markdown",
   "id": "84ed298d-6db5-4192-9151-98f8eccbaf45",
   "metadata": {},
   "source": [
    "(Figure 5-4)\n",
    "Friend only want to play this game if there is a better than 0.7 probability that the chance of pulling an Efron card is greater than 0.005"
   ]
  },
  {
   "cell_type": "code",
   "execution_count": 84,
   "id": "28b43eab-4c3c-4693-b49c-e4c2fc32325e",
   "metadata": {},
   "outputs": [
    {
     "data": {
      "text/plain": [
       "0.28505593979614996"
      ]
     },
     "execution_count": 84,
     "metadata": {},
     "output_type": "execute_result"
    }
   ],
   "source": [
    "auc = 1-beta.cdf(0.005, alpha, beta_val)\n",
    "auc"
   ]
  },
  {
   "cell_type": "markdown",
   "id": "29adabb0-b1a3-4d83-ae4c-b7004c4bba95",
   "metadata": {},
   "source": [
    "So, no. The probability that the chance of pulling an Efron Card being greater than 0.005 is only 0.285, far from the 0.7 threshold our friend is looking for. "
   ]
  },
  {
   "cell_type": "markdown",
   "id": "32d5f34a-ff89-477b-8784-787785ba655a",
   "metadata": {},
   "source": [
    "### Chapter 5 Exercises\n",
    "(visualizations here are my own supplemental material, not recreations of visualizations in the book)"
   ]
  },
  {
   "cell_type": "markdown",
   "id": "660dc62d-fa4e-4143-a790-78f73c88fba3",
   "metadata": {
    "tags": []
   },
   "source": [
    "#### 1. You want to use the beta distribution to determine if you have a fair coin. You flip the coin 10 times, get 4 heads, 6 tails. What's the probability that the coin will land on heads >60% of the time?"
   ]
  },
  {
   "cell_type": "code",
   "execution_count": 106,
   "id": "d620835d-4a2e-4df4-a529-a4e5afe7804d",
   "metadata": {},
   "outputs": [],
   "source": [
    "# parameters\n",
    "alpha = 4\n",
    "beta_val = 6\n",
    "thresh = 0.6"
   ]
  },
  {
   "cell_type": "code",
   "execution_count": 107,
   "id": "5d88b651-a80c-4a0c-bbd2-84ab72a2c620",
   "metadata": {},
   "outputs": [
    {
     "name": "stdout",
     "output_type": "stream",
     "text": [
      "There is a 9.94% chance the true probability of getting a heads is greater than 60%\n"
     ]
    }
   ],
   "source": [
    "# probability\n",
    "prob = round((1- beta.cdf(0.6, alpha, beta_val))*100,2)\n",
    "print(f'There is a {prob}% chance the true probability of getting a heads is greater than 60%') "
   ]
  },
  {
   "cell_type": "code",
   "execution_count": 115,
   "id": "d5efe344-1a63-465f-a01f-21de2a0e6fd7",
   "metadata": {},
   "outputs": [
    {
     "data": {
      "image/png": "[encoded data removed]",
      "text/plain": [
       "<Figure size 432x288 with 1 Axes>"
      ]
     },
     "metadata": {
      "needs_background": "light"
     },
     "output_type": "display_data"
    }
   ],
   "source": [
    "# visualization:\n",
    "x_vals = np.linspace(0,1,1000)\n",
    "pdf_vals = beta.pdf(x_vals, alpha, beta_val)\n",
    "plt.plot(x_vals, pdf_vals)\n",
    "\n",
    "plt.axvline(x=thresh, color='red', linestyle='--')\n",
    "plt.fill_between(x_vals, pdf_vals, where=(x_vals >= thresh), \n",
    "                 color='blue', alpha=0.3)\n",
    "\n",
    "plt.title(\"Probability of heads, Beta(4, 6)\")\n",
    "plt.xlabel(\"p\")\n",
    "plt.ylabel(\"Density\")\n",
    "plt.grid()\n",
    "plt.show()"
   ]
  },
  {
   "cell_type": "markdown",
   "id": "d06695c4-a9e4-480c-a0a5-db9156da3dba",
   "metadata": {},
   "source": [
    "#### 2. You flip the coin 10 more times and now have 9 heads and 11 tails. What's the probability the coin is fair, give or take 5%?"
   ]
  },
  {
   "cell_type": "code",
   "execution_count": 140,
   "id": "1f2e6459-577c-4930-a71b-309588e8a800",
   "metadata": {},
   "outputs": [],
   "source": [
    "# parameters\n",
    "alpha, beta_val = 9, 11   \n",
    "thresh_gt  = 0.45\n",
    "thresh_lt = 0.55"
   ]
  },
  {
   "cell_type": "code",
   "execution_count": 141,
   "id": "132a5b8f-1a40-495f-817a-99d920136037",
   "metadata": {},
   "outputs": [],
   "source": [
    "def beta_viz(alpha, beta_val, thresh_gt, thresh_lt):\n",
    "    '''\n",
    "    alpha: observed successes\n",
    "    beta_val: observed fails\n",
    "    thresh_lt: probability upper bound\n",
    "    thresh_gt: proability lower bound\n",
    "    '''\n",
    "    # probability\n",
    "    prob_upper = beta.cdf(thresh_lt, alpha, beta_val)\n",
    "    prob_lower = beta.cdf(thresh_gt, alpha, beta_val)\n",
    "\n",
    "    range_prob = round((prob_upper-prob_lower)*100,2)\n",
    "    \n",
    "    print(f\"There's a {range_prob}% chance the coin is fair, give or take 5%, \" \n",
    "          \"\\nvisualized by the shaded area below:\")\n",
    "    \n",
    "    # visualization\n",
    "    x_vals = np.linspace(0,1,1000)\n",
    "    pdf_vals = beta.pdf(x_vals, alpha, beta_val)\n",
    "    plt.plot(x_vals, pdf_vals)\n",
    "\n",
    "    plt.axvline(x=thresh_gt, color='red', linestyle='--')\n",
    "    plt.axvline(x=thresh_lt, color='red', linestyle='--')\n",
    "    plt.fill_between(x_vals, pdf_vals, where=((thresh_gt < x_vals) & \n",
    "                    (x_vals < thresh_lt)), color='blue', alpha=0.3)\n",
    "\n",
    "    plt.title(f\"Probability of a fair coin, -+5%, Beta({alpha}, {beta_val})\")\n",
    "    plt.xlabel(\"p\")\n",
    "    plt.ylabel(\"Density\")\n",
    "    plt.grid()\n",
    "    return plt.show()"
   ]
  },
  {
   "cell_type": "code",
   "execution_count": 138,
   "id": "e4e22ac3-5a53-4c7c-abe3-00afc922fdf2",
   "metadata": {},
   "outputs": [
    {
     "name": "stdout",
     "output_type": "stream",
     "text": [
      "There's a 30.99% chance the coin is fair, give or take 5%, \n",
      "visualized by the shaded area below:\n"
     ]
    },
    {
     "data": {
      "image/png": "[encoded data removed]",
      "text/plain": [
       "<Figure size 432x288 with 1 Axes>"
      ]
     },
     "metadata": {
      "needs_background": "light"
     },
     "output_type": "display_data"
    }
   ],
   "source": [
    "beta_viz(alpha, beta_val, thresh_gt, thresh_lt)"
   ]
  },
  {
   "cell_type": "markdown",
   "id": "dbc48477-3571-4bdb-9266-bfcbb14a7acc",
   "metadata": {},
   "source": [
    "#### 3. You flip the coin 200 more times, and end up with 109 heads and 111 tails. Now what's the probability, give or take 5%?"
   ]
  },
  {
   "cell_type": "code",
   "execution_count": 139,
   "id": "7da5b232-6ade-44f8-9b8f-a7d8b74a3ab0",
   "metadata": {},
   "outputs": [
    {
     "name": "stdout",
     "output_type": "stream",
     "text": [
      "There's a 85.89% chance the coin is fair, give or take 5%, \n",
      "visualized by the shaded area below:\n"
     ]
    },
    {
     "data": {
      "image/png": "[encoded data removed]",
      "text/plain": [
       "<Figure size 432x288 with 1 Axes>"
      ]
     },
     "metadata": {
      "needs_background": "light"
     },
     "output_type": "display_data"
    }
   ],
   "source": [
    "# parameters\n",
    "alpha, beta_val = 109, 111   \n",
    "thresh_gt  = 0.45\n",
    "thresh_lt = 0.55\n",
    "\n",
    "beta_viz(alpha, beta_val, thresh_gt, thresh_lt)"
   ]
  },
  {
   "cell_type": "markdown",
   "id": "533b7f4b-6eb8-4507-b103-555a6639afb7",
   "metadata": {},
   "source": [
    "^Now that's looking more like the curve we'd expect to see with a fair coin."
   ]
  },
  {
   "cell_type": "markdown",
   "id": "99aedba7-afca-4808-8690-3c6a36022993",
   "metadata": {},
   "source": [
    "---"
   ]
  },
  {
   "cell_type": "markdown",
   "id": "5403b248-0233-49dc-8ce4-1dc42ab439d2",
   "metadata": {},
   "source": [
    "## Chapters 6-8\n",
    "No coding here, just pure baysean theory goodness."
   ]
  },
  {
   "cell_type": "markdown",
   "id": "9b8d48f1-969f-41d5-a0a7-f7c30fdf19ed",
   "metadata": {},
   "source": [
    "---"
   ]
  },
  {
   "cell_type": "markdown",
   "id": "03dbad4a-5ad3-4a24-a624-ff2640a2f9e7",
   "metadata": {},
   "source": [
    "## Chapter 9: Baysean Priors and Working with Probability Distributions\n",
    "The coding here is actually a natural continuation of what we saw just above in chapter 5, but now in a more Baysian context."
   ]
  },
  {
   "cell_type": "code",
   "execution_count": null,
   "id": "bbaab5c1-97a9-43bc-8ffa-7fb6ab17be91",
   "metadata": {},
   "outputs": [],
   "source": []
  },
  {
   "cell_type": "code",
   "execution_count": null,
   "id": "5f837de7-d6c0-49a9-82b2-bb80206da012",
   "metadata": {},
   "outputs": [],
   "source": []
  }
 ],
 "metadata": {
  "kernelspec": {
   "display_name": "Python 3 (ipykernel)",
   "language": "python",
   "name": "python3"
  },
  "language_info": {
   "codemirror_mode": {
    "name": "ipython",
    "version": 3
   },
   "file_extension": ".py",
   "mimetype": "text/x-python",
   "name": "python",
   "nbconvert_exporter": "python",
   "pygments_lexer": "ipython3",
   "version": "3.9.12"
  }
 },
 "nbformat": 4,
 "nbformat_minor": 5
}
