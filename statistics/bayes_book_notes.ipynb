{
 "cells": [
  {
   "cell_type": "markdown",
   "id": "02376ebe-3cf4-4081-b0de-958e958dc4ae",
   "metadata": {},
   "source": [
    "Interpretation of content from *Baysean Statistics the Fun Way* by Will Kurt\n",
    "#### Ch 4: Binomial Probability Distribution"
   ]
  },
  {
   "cell_type": "code",
   "execution_count": 7,
   "id": "43b9fd51-1bed-42fc-b8df-74e9cd89362f",
   "metadata": {},
   "outputs": [],
   "source": [
    "import math\n",
    "from scipy.stats import binom\n",
    "import matplotlib.pyplot as plt"
   ]
  },
  {
   "cell_type": "markdown",
   "id": "fc6abd9b-b79f-44cc-bf0a-5b650d543b47",
   "metadata": {},
   "source": [
    "**Combinatorics** - Binomial Probability  \n",
    "\"n choose k,\" out of n trials, get k successes:  \n",
    "\n",
    "$ \\left( \\begin{array}{c} n \\\\ k \\end{array} \\right) = \\large\\frac{n!}{k!  (n-k)!} $\n",
    "\n",
    "To do this we can use `math.comb(n, k)`, reveals the number of ways it can happen:"
   ]
  },
  {
   "cell_type": "code",
   "execution_count": 13,
   "id": "9b6a9ed3-a25a-45bb-a172-0e1e6382d55e",
   "metadata": {},
   "outputs": [
    {
     "name": "stdout",
     "output_type": "stream",
     "text": [
      "There are 10 ways to get 2 successes out of 10 trials\n"
     ]
    }
   ],
   "source": [
    "# Out of 5 trials, get 2 successes:\n",
    "n = 5\n",
    "k = 2\n",
    "num_ways = math.comb(n, k)\n",
    "print(f'There are {num_ways} ways to get 2 successes out of 10 trials')"
   ]
  },
  {
   "cell_type": "markdown",
   "id": "b519cf3a-fc79-40ee-abed-914c637a1f60",
   "metadata": {},
   "source": [
    "Using this formula, we can combine it with the probabilities of the different outcomes, and plot the probabilities of *all outcomes* in a probability mass function:  \n",
    "  \n",
    "Probability of getting k successes (where p is prob success and q = 1-p (prob failure):\n",
    "$$ P(k) = pmf = \\large\\frac{n!}{k!  (n-k)!} * p^x * q^{(n-x)} $$  \n",
    "  \n",
    "In Python, we can do this with `binom.pmf(k,n,p)`  \n",
    "Visualize the binomial distribution for 10 coin flips"
   ]
  },
  {
   "cell_type": "code",
   "execution_count": 14,
   "id": "99747666-8182-4000-805d-34cf0cdb51ad",
   "metadata": {},
   "outputs": [],
   "source": [
    "n = 10 # 10 trials\n",
    "p = .5 # .5 chance of success\n",
    "k = list(range(0,11)) # a listing of all possible outcomes, i.e. number of successes,\n",
    "#  from 0 heads to 10 heads. "
   ]
  },
  {
   "cell_type": "code",
   "execution_count": 15,
   "id": "6c7fa89a-3d70-48cd-abc6-1a7e21cc8e28",
   "metadata": {},
   "outputs": [],
   "source": [
    "# pmf probability mass function\n",
    "probs = list(binom.pmf(k,n,p))  "
   ]
  },
  {
   "cell_type": "code",
   "execution_count": 16,
   "id": "4e7b6ae5-8055-4315-a2f2-facc937b389e",
   "metadata": {},
   "outputs": [
    {
     "data": {
      "image/png": "[encoded data removed]",
      "text/plain": [
       "<Figure size 432x288 with 1 Axes>"
      ]
     },
     "metadata": {
      "needs_background": "light"
     },
     "output_type": "display_data"
    }
   ],
   "source": [
    "plt.bar(k, probs, color = 'maroon')\n",
    "plt.title(\"Binomial Distribution for 10 Coin Flips\")\n",
    "plt.xlabel(\"Number Heads, k\")\n",
    "plt.ylabel(\"Probability p\")\n",
    "plt.show()"
   ]
  },
  {
   "cell_type": "markdown",
   "id": "8e71198f-58a5-4016-9a8d-a99c5bd024f0",
   "metadata": {},
   "source": [
    "Visualize the binomial distribution for 10 rolls of a 6 sided die"
   ]
  },
  {
   "cell_type": "code",
   "execution_count": 17,
   "id": "f16c73ec-b08c-4bf0-90fb-5b680b3ac2a1",
   "metadata": {},
   "outputs": [],
   "source": [
    "n = 10\n",
    "p = 1/6\n",
    "k = list(range(0,11))"
   ]
  },
  {
   "cell_type": "code",
   "execution_count": 18,
   "id": "25d0eda6-8701-4bef-b15f-94426159188a",
   "metadata": {},
   "outputs": [],
   "source": [
    "probs = binom.pmf(k,n,p)"
   ]
  },
  {
   "cell_type": "code",
   "execution_count": 19,
   "id": "8d8ae9df-5f3c-466e-bba0-6a96ade0ccfb",
   "metadata": {},
   "outputs": [
    {
     "data": {
      "image/png": "[encoded data removed]",
      "text/plain": [
       "<Figure size 432x288 with 1 Axes>"
      ]
     },
     "metadata": {
      "needs_background": "light"
     },
     "output_type": "display_data"
    }
   ],
   "source": [
    "plt.bar(k, probs, color = 'maroon')\n",
    "plt.title(\"Binomial Distribution for 10 Die Rolls\")\n",
    "plt.xlabel(\"Number of times 6 comes up, k\")\n",
    "plt.ylabel(\"Probability p\")\n",
    "plt.show()"
   ]
  },
  {
   "cell_type": "markdown",
   "id": "aec358b0-b41a-4a8f-ac6e-e8af37c77010",
   "metadata": {},
   "source": [
    "We can get a cumulative probability to reflect the probability of a range k and up, or down with  \n",
    "`binom.cdf(k,n,p)`"
   ]
  },
  {
   "cell_type": "code",
   "execution_count": 22,
   "id": "8f2f0ecb-aa7a-488b-a752-5114a3ac808c",
   "metadata": {},
   "outputs": [
    {
     "name": "stdout",
     "output_type": "stream",
     "text": [
      "Cumulative Probability for 8 or fewer successes: 0.9893\n",
      "Cumulative Probability for 9 or more successes: 0.0107\n"
     ]
    }
   ],
   "source": [
    "n = 10  # trials\n",
    "p = 0.5  # probability of success in each trial\n",
    "\n",
    "# Choose a specific point for which you want to calculate the cumulative probability\n",
    "k = 8  # number of successes\n",
    "\n",
    "# Calculate the cumulative probability using the cdf method\n",
    "cumulative_probability = binom.cdf(k, n, p)\n",
    "\n",
    "# up to k (left side)\n",
    "print(f\"Cumulative Probability for {k} or fewer successes: {cumulative_probability:.4f}\")\n",
    "# more than k, (right side)\n",
    "print(f\"Cumulative Probability for {k+1} or more successes: {1-cumulative_probability:.4f}\")\n"
   ]
  },
  {
   "cell_type": "markdown",
   "id": "66b81acf-1099-4967-8331-a140d736446a",
   "metadata": {},
   "source": [
    "### Chapter 4 Exercises\n",
    "#### 1. What are the params of the binom dist for the probability of rolling either a 1 or a 20 on a 20 sided die, if we roll the die 12 times?\n",
    "B(k; n, p) = B(1; 12, 1/10)"
   ]
  },
  {
   "cell_type": "code",
   "execution_count": 26,
   "id": "224f1bc3-a2cb-4bc7-8a77-2b4c3e6f255a",
   "metadata": {},
   "outputs": [
    {
     "name": "stdout",
     "output_type": "stream",
     "text": [
      "39.0%\n"
     ]
    }
   ],
   "source": [
    "k, b, p = 1, 12, 1/10\n",
    "print(f'{round(binom.pmf(k,n,p), 2)*100}%')"
   ]
  },
  {
   "cell_type": "markdown",
   "id": "ab50cd13-f3a7-4428-95f2-4b90d674b6bc",
   "metadata": {},
   "source": [
    "#### 2. Standard 52 card deck. Shuffle, draw and replace. How many ways can you pull just one ace in five pulls?  "
   ]
  },
  {
   "cell_type": "code",
   "execution_count": 27,
   "id": "cf3363ba-f961-4eb6-a170-dc01519281a4",
   "metadata": {},
   "outputs": [
    {
     "data": {
      "text/plain": [
       "5"
      ]
     },
     "execution_count": 27,
     "metadata": {},
     "output_type": "execute_result"
    }
   ],
   "source": [
    "# obviously 5, but in case the numbers were messiers, here it is:\n",
    "n = 5 # 5 pulls\n",
    "k = 1 # just one ace\n",
    "math.comb(n, k) "
   ]
  },
  {
   "cell_type": "markdown",
   "id": "25a340ec-8572-4d35-9dfd-1dd5b2b41588",
   "metadata": {},
   "source": [
    "#### 3. Continuing with the cards, what's the prob of pulling 5 aces in 10 pulls?\n",
    "This is a binomial probability question.  \n",
    "We've got 10 trials (n=10), looking for 5 successes (k=5), and the odds of a success on a single trial, considering we have replacement, is 4/52."
   ]
  },
  {
   "cell_type": "code",
   "execution_count": 30,
   "id": "37029fc1-b7f3-4e31-8ca4-910b0297073d",
   "metadata": {},
   "outputs": [
    {
     "name": "stdout",
     "output_type": "stream",
     "text": [
      " probability is 0.045%\n"
     ]
    }
   ],
   "source": [
    "k = 5\n",
    "n = 10\n",
    "p = 4/52\n",
    "print(f' probability is {round(binom.pmf(k,n,p)*100, 3)}%')"
   ]
  },
  {
   "cell_type": "markdown",
   "id": "72337ca3-1f5d-4715-ae60-1f200f6112db",
   "metadata": {},
   "source": [
    "#### 4. If you have a 1/5 probability of a job offer when you interview, and you interview at 7 companies a month, what's the probability you'll have at least 2 competing offers by the end of the month?\n",
    "Another binomial problem. 7 trials, probability of success 1/5, looking for 2 OR MORE successes."
   ]
  },
  {
   "cell_type": "code",
   "execution_count": 66,
   "id": "18a6338f-3f95-4cc3-b961-475f3dfdceb9",
   "metadata": {},
   "outputs": [
    {
     "name": "stdout",
     "output_type": "stream",
     "text": [
      "42.328%\n"
     ]
    }
   ],
   "source": [
    "# using pmf with a loop to get 2 and up.\n",
    "sum = 0 \n",
    "for i in range(2,8):\n",
    "    sum += binom.pmf(i,7,1/5)\n",
    "print(f'{round(100*sum,3)}%')"
   ]
  },
  {
   "cell_type": "code",
   "execution_count": 67,
   "id": "2d028c54-91bc-4542-a033-3bd0e864ca1f",
   "metadata": {},
   "outputs": [
    {
     "name": "stdout",
     "output_type": "stream",
     "text": [
      " probability is 42.328%\n"
     ]
    }
   ],
   "source": [
    "# using cdf... I guess it works like \"greater than k\" as in the next number up, \n",
    "# so we use k=1? Too lazy to check this docs, but this is how you get the correct answer. \n",
    "k = 1\n",
    "n = 7\n",
    "p = 1/5\n",
    "print(f' probability is {round((1-binom.cdf(k,n,p))*100, 3)}%')"
   ]
  },
  {
   "cell_type": "markdown",
   "id": "510961c2-0227-4f83-b06d-f8580f1020d0",
   "metadata": {},
   "source": [
    "#### 5. Continuing with the job example. You have 25 job interviews lined up next month. This will leave you exhausted and so the probability of success will drop to 1/10. You don't want to do 25 interviews unless doing so makes you twice as likely to get at least 2 offers. So should you do the 25, or just stick to the 7?"
   ]
  },
  {
   "cell_type": "code",
   "execution_count": 68,
   "id": "2cf553cf-31c6-42e5-a81f-bb32e950f92e",
   "metadata": {},
   "outputs": [
    {
     "name": "stdout",
     "output_type": "stream",
     "text": [
      " probability is 72.879%\n"
     ]
    }
   ],
   "source": [
    "k = 1\n",
    "n = 25\n",
    "p = 1/10\n",
    "print(f' probability is {round((1-binom.cdf(k,n,p))*100, 3)}%')"
   ]
  },
  {
   "cell_type": "markdown",
   "id": "96dbf490-f9bc-405d-a6c9-f5f6aa4bb108",
   "metadata": {},
   "source": [
    "That's a lot higher, but it's not twice as likely, so maybe don't do all those interviews."
   ]
  }
 ],
 "metadata": {
  "kernelspec": {
   "display_name": "Python 3 (ipykernel)",
   "language": "python",
   "name": "python3"
  },
  "language_info": {
   "codemirror_mode": {
    "name": "ipython",
    "version": 3
   },
   "file_extension": ".py",
   "mimetype": "text/x-python",
   "name": "python",
   "nbconvert_exporter": "python",
   "pygments_lexer": "ipython3",
   "version": "3.9.12"
  }
 },
 "nbformat": 4,
 "nbformat_minor": 5
}
