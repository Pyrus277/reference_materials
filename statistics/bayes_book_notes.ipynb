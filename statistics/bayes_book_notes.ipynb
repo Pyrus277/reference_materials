{
 "cells": [
  {
   "cell_type": "markdown",
   "id": "02376ebe-3cf4-4081-b0de-958e958dc4ae",
   "metadata": {},
   "source": [
    "Interpretation of content from *Baysean Statistics the Fun Way* by Will Kurt\n",
    "## Chapter 4: Binomial Probability Distribution"
   ]
  },
  {
   "cell_type": "code",
   "execution_count": 1,
   "id": "43b9fd51-1bed-42fc-b8df-74e9cd89362f",
   "metadata": {},
   "outputs": [],
   "source": [
    "import math\n",
    "import numpy as np\n",
    "from scipy.stats import binom\n",
    "import matplotlib.pyplot as plt"
   ]
  },
  {
   "cell_type": "markdown",
   "id": "fc6abd9b-b79f-44cc-bf0a-5b650d543b47",
   "metadata": {},
   "source": [
    "**Combinatorics** - Binomial Probability  \n",
    "\"n choose k,\" out of n trials, get k successes:  \n",
    "\n",
    "$ \\left( \\begin{array}{c} n \\\\ k \\end{array} \\right) = \\large\\frac{n!}{k!  (n-k)!} $\n",
    "\n",
    "To do this we can use `math.comb(n, k)`, reveals the number of ways it can happen:"
   ]
  },
  {
   "cell_type": "code",
   "execution_count": 2,
   "id": "9b6a9ed3-a25a-45bb-a172-0e1e6382d55e",
   "metadata": {},
   "outputs": [
    {
     "name": "stdout",
     "output_type": "stream",
     "text": [
      "There are 10 ways to get 2 successes out of 10 trials\n"
     ]
    }
   ],
   "source": [
    "# Out of 5 trials, get 2 successes:\n",
    "n = 5\n",
    "k = 2\n",
    "num_ways = math.comb(n, k)\n",
    "print(f'There are {num_ways} ways to get 2 successes out of 10 trials')"
   ]
  },
  {
   "cell_type": "markdown",
   "id": "b519cf3a-fc79-40ee-abed-914c637a1f60",
   "metadata": {},
   "source": [
    "Using this formula, we can combine it with the probabilities of the different outcomes, and plot the probabilities of *all outcomes* in a probability mass function:  \n",
    "  \n",
    "Probability of getting k successes (where p is prob success and q = 1-p (prob failure):\n",
    "$$ P(k) = pmf = \\large\\frac{n!}{k!  (n-k)!} * p^x * q^{(n-x)} $$  \n",
    "  \n",
    "In Python, we can do this with `binom.pmf(k,n,p)`  \n",
    "Visualize the binomial distribution for 10 coin flips"
   ]
  },
  {
   "cell_type": "code",
   "execution_count": 3,
   "id": "99747666-8182-4000-805d-34cf0cdb51ad",
   "metadata": {},
   "outputs": [],
   "source": [
    "n = 10 # 10 trials\n",
    "p = .5 # .5 chance of success\n",
    "k = list(range(0,11)) # a listing of all possible outcomes, i.e. number of successes,\n",
    "#  from 0 heads to 10 heads. "
   ]
  },
  {
   "cell_type": "code",
   "execution_count": 4,
   "id": "6c7fa89a-3d70-48cd-abc6-1a7e21cc8e28",
   "metadata": {},
   "outputs": [],
   "source": [
    "# pmf probability mass function\n",
    "probs = list(binom.pmf(k,n,p))  "
   ]
  },
  {
   "cell_type": "code",
   "execution_count": 5,
   "id": "4e7b6ae5-8055-4315-a2f2-facc937b389e",
   "metadata": {},
   "outputs": [
    {
     "data": {
      "image/png": "[encoded data removed]",
      "text/plain": [
       "<Figure size 432x288 with 1 Axes>"
      ]
     },
     "metadata": {
      "needs_background": "light"
     },
     "output_type": "display_data"
    }
   ],
   "source": [
    "# figure 4-1\n",
    "plt.bar(k, probs, color = 'maroon')\n",
    "plt.title(\"Binomial Distribution for 10 Coin Flips\")\n",
    "plt.xlabel(\"Number Heads, k\")\n",
    "plt.ylabel(\"Probability p\")\n",
    "plt.show()"
   ]
  },
  {
   "cell_type": "markdown",
   "id": "8e71198f-58a5-4016-9a8d-a99c5bd024f0",
   "metadata": {},
   "source": [
    "Visualize the binomial distribution for 10 rolls of a 6 sided die"
   ]
  },
  {
   "cell_type": "code",
   "execution_count": 6,
   "id": "f16c73ec-b08c-4bf0-90fb-5b680b3ac2a1",
   "metadata": {},
   "outputs": [],
   "source": [
    "n = 10\n",
    "p = 1/6\n",
    "k = list(range(0,11))"
   ]
  },
  {
   "cell_type": "code",
   "execution_count": 7,
   "id": "25d0eda6-8701-4bef-b15f-94426159188a",
   "metadata": {},
   "outputs": [],
   "source": [
    "probs = binom.pmf(k,n,p)"
   ]
  },
  {
   "cell_type": "code",
   "execution_count": 8,
   "id": "8d8ae9df-5f3c-466e-bba0-6a96ade0ccfb",
   "metadata": {},
   "outputs": [
    {
     "data": {
      "image/png": "[encoded data removed]",
      "text/plain": [
       "<Figure size 432x288 with 1 Axes>"
      ]
     },
     "metadata": {
      "needs_background": "light"
     },
     "output_type": "display_data"
    }
   ],
   "source": [
    "# figure 4-2\n",
    "plt.bar(k, probs, color = 'maroon')\n",
    "plt.title(\"Binomial Distribution for 10 Die Rolls\")\n",
    "plt.xlabel(\"Number of times 6 comes up, k\")\n",
    "plt.ylabel(\"Probability p\")\n",
    "plt.show()"
   ]
  },
  {
   "cell_type": "markdown",
   "id": "aec358b0-b41a-4a8f-ac6e-e8af37c77010",
   "metadata": {},
   "source": [
    "We can get a cumulative probability to reflect the probability of a range k and up, or down with  \n",
    "`binom.cdf(k,n,p)`"
   ]
  },
  {
   "cell_type": "code",
   "execution_count": 9,
   "id": "8f2f0ecb-aa7a-488b-a752-5114a3ac808c",
   "metadata": {},
   "outputs": [
    {
     "name": "stdout",
     "output_type": "stream",
     "text": [
      "Cumulative Probability for 8 or fewer successes: 0.9893\n",
      "Cumulative Probability for 9 or more successes: 0.0107\n"
     ]
    }
   ],
   "source": [
    "n = 10  # trials\n",
    "p = 0.5  # probability of success in each trial\n",
    "\n",
    "# Choose a specific point for which you want to calculate the cumulative probability\n",
    "k = 8  # number of successes\n",
    "\n",
    "# Calculate the cumulative probability using the cdf method\n",
    "cumulative_probability = binom.cdf(k, n, p)\n",
    "\n",
    "# up to k (left side)\n",
    "print(f\"Cumulative Probability for {k} or fewer successes: {cumulative_probability:.4f}\")\n",
    "# more than k, (right side)\n",
    "print(f\"Cumulative Probability for {k+1} or more successes: {1-cumulative_probability:.4f}\")\n"
   ]
  },
  {
   "cell_type": "markdown",
   "id": "66b81acf-1099-4967-8331-a140d736446a",
   "metadata": {},
   "source": [
    "### Chapter 4 Exercises\n",
    "#### 1. What are the params of the binom dist for the probability of rolling either a 1 or a 20 on a 20 sided die, if we roll the die 12 times?\n",
    "B(k; n, p) = B(1; 12, 1/10)"
   ]
  },
  {
   "cell_type": "code",
   "execution_count": 10,
   "id": "224f1bc3-a2cb-4bc7-8a77-2b4c3e6f255a",
   "metadata": {},
   "outputs": [
    {
     "name": "stdout",
     "output_type": "stream",
     "text": [
      "39.0%\n"
     ]
    }
   ],
   "source": [
    "k, b, p = 1, 12, 1/10\n",
    "print(f'{round(binom.pmf(k,n,p), 2)*100}%')"
   ]
  },
  {
   "cell_type": "markdown",
   "id": "ab50cd13-f3a7-4428-95f2-4b90d674b6bc",
   "metadata": {},
   "source": [
    "#### 2. Standard 52 card deck. Shuffle, draw and replace. How many ways can you pull just one ace in five pulls?  "
   ]
  },
  {
   "cell_type": "code",
   "execution_count": 11,
   "id": "cf3363ba-f961-4eb6-a170-dc01519281a4",
   "metadata": {},
   "outputs": [
    {
     "data": {
      "text/plain": [
       "5"
      ]
     },
     "execution_count": 11,
     "metadata": {},
     "output_type": "execute_result"
    }
   ],
   "source": [
    "# obviously 5, but in case the numbers were messiers, here it is:\n",
    "n = 5 # 5 pulls\n",
    "k = 1 # just one ace\n",
    "math.comb(n, k) "
   ]
  },
  {
   "cell_type": "markdown",
   "id": "25a340ec-8572-4d35-9dfd-1dd5b2b41588",
   "metadata": {},
   "source": [
    "#### 3. Continuing with the cards, what's the prob of pulling 5 aces in 10 pulls?\n",
    "This is a binomial probability question.  \n",
    "We've got 10 trials (n=10), looking for 5 successes (k=5), and the odds of a success on a single trial, considering we have replacement, is 4/52."
   ]
  },
  {
   "cell_type": "code",
   "execution_count": 12,
   "id": "37029fc1-b7f3-4e31-8ca4-910b0297073d",
   "metadata": {},
   "outputs": [
    {
     "name": "stdout",
     "output_type": "stream",
     "text": [
      " probability is 0.045%\n"
     ]
    }
   ],
   "source": [
    "k = 5\n",
    "n = 10\n",
    "p = 4/52\n",
    "print(f' probability is {round(binom.pmf(k,n,p)*100, 3)}%')"
   ]
  },
  {
   "cell_type": "markdown",
   "id": "72337ca3-1f5d-4715-ae60-1f200f6112db",
   "metadata": {},
   "source": [
    "#### 4. If you have a 1/5 probability of a job offer when you interview, and you interview at 7 companies a month, what's the probability you'll have at least 2 competing offers by the end of the month?\n",
    "Another binomial problem. 7 trials, probability of success 1/5, looking for 2 OR MORE successes."
   ]
  },
  {
   "cell_type": "code",
   "execution_count": 13,
   "id": "18a6338f-3f95-4cc3-b961-475f3dfdceb9",
   "metadata": {},
   "outputs": [
    {
     "name": "stdout",
     "output_type": "stream",
     "text": [
      "42.328%\n"
     ]
    }
   ],
   "source": [
    "# using pmf with a loop to get 2 and up.\n",
    "sum = 0 \n",
    "for i in range(2,8):\n",
    "    sum += binom.pmf(i,7,1/5)\n",
    "print(f'{round(100*sum,3)}%')"
   ]
  },
  {
   "cell_type": "code",
   "execution_count": 14,
   "id": "2d028c54-91bc-4542-a033-3bd0e864ca1f",
   "metadata": {},
   "outputs": [
    {
     "name": "stdout",
     "output_type": "stream",
     "text": [
      " probability is 42.328%\n"
     ]
    }
   ],
   "source": [
    "# using cdf... I guess it works like \"greater than k\" as in the next number up, \n",
    "# so we use k=1? Too lazy to check this docs, but this is how you get the correct answer. \n",
    "k = 1\n",
    "n = 7\n",
    "p = 1/5\n",
    "print(f' probability is {round((1-binom.cdf(k,n,p))*100, 3)}%')"
   ]
  },
  {
   "cell_type": "markdown",
   "id": "510961c2-0227-4f83-b06d-f8580f1020d0",
   "metadata": {},
   "source": [
    "#### 5. Continuing with the job example. You have 25 job interviews lined up next month. This will leave you exhausted and so the probability of success will drop to 1/10. You don't want to do 25 interviews unless doing so makes you twice as likely to get at least 2 offers. So should you do the 25, or just stick to the 7?"
   ]
  },
  {
   "cell_type": "code",
   "execution_count": 15,
   "id": "2cf553cf-31c6-42e5-a81f-bb32e950f92e",
   "metadata": {},
   "outputs": [
    {
     "name": "stdout",
     "output_type": "stream",
     "text": [
      " probability is 72.879%\n"
     ]
    }
   ],
   "source": [
    "k = 1\n",
    "n = 25\n",
    "p = 1/10\n",
    "print(f' probability is {round((1-binom.cdf(k,n,p))*100, 3)}%')"
   ]
  },
  {
   "cell_type": "markdown",
   "id": "96dbf490-f9bc-405d-a6c9-f5f6aa4bb108",
   "metadata": {},
   "source": [
    "That's a lot higher, but it's not twice as likely, so maybe don't do all those interviews."
   ]
  },
  {
   "cell_type": "markdown",
   "id": "c5d30366-8bb3-4372-b2d6-f41b72e97c93",
   "metadata": {},
   "source": [
    "---"
   ]
  },
  {
   "cell_type": "markdown",
   "id": "5f2ac32c-876b-44f1-ad7b-5b9728bc39d2",
   "metadata": {},
   "source": [
    "## Chapter 5: The Beta Distribution\n",
    "  \n",
    "\"Used to estimate the probability of an event for which you've already observed a number of trials and successful outcomes.\"\n",
    "Goal is to take in data and come up with *estimates* of probabilities. \n",
    "\n",
    "**Inference**: The task of figuring out probabilities based on data. "
   ]
  },
  {
   "cell_type": "markdown",
   "id": "d55f574e-e4a2-42ec-be79-e7dbd854a0a2",
   "metadata": {},
   "source": [
    "#### Example: Magic box that takes quarters. Sometimes it eats the quarter, sometimes it returns 2 quarters.\n",
    "\n",
    "Naive hypothesis is that we have a 50/50 chance to win or lose.     \n",
    "Gather data: We put in 41 quarters and keep track of the results:"
   ]
  },
  {
   "cell_type": "code",
   "execution_count": 16,
   "id": "d917dfe8-7674-43d1-8c4c-a207175283ce",
   "metadata": {},
   "outputs": [],
   "source": [
    "wins = 14\n",
    "losses = 27"
   ]
  },
  {
   "cell_type": "markdown",
   "id": "68bbe4a7-3817-4d0e-bfe7-35b696728f33",
   "metadata": {},
   "source": [
    "Updating our hypothesis:   \n",
    "$H_1$ is P(two coins) = 1/2  \n",
    "$H_2$ is P(two coins) = 14/41\n",
    "\n",
    "\"How probable is what we observed if $H_1$ were true vs $H_2$?\"  \n",
    "We can calculate this with binomial distribution!"
   ]
  },
  {
   "cell_type": "code",
   "execution_count": 25,
   "id": "d0a23f05-71dc-4c59-8d58-eeec91f5e5eb",
   "metadata": {},
   "outputs": [
    {
     "name": "stdout",
     "output_type": "stream",
     "text": [
      "The probability of observing 14 wins out of 41 attemps, given that the\n",
      "odds of a win are 1/2 is 0.016\n"
     ]
    }
   ],
   "source": [
    "# set up for binomial distribution:\n",
    "k = wins\n",
    "n = wins + losses\n",
    "p_h1 = 1/2 # probability of hypothesis 1\n",
    "p_h2 = 14/41 # probability of hypothesis 2\n",
    "\n",
    "print(f'''The probability of observing 14 wins out of 41 attemps, given that the\n",
    "odds of a win are 1/2 is {round(binom.pmf(k, n, p_h1), 3)}''')"
   ]
  },
  {
   "cell_type": "code",
   "execution_count": 26,
   "id": "df8c4bac-a3fe-4b75-996d-502c8c441501",
   "metadata": {},
   "outputs": [
    {
     "name": "stdout",
     "output_type": "stream",
     "text": [
      "The probability of observing 14 wins out of 41 attemps, given that the\n",
      "odds of a win are 14/41 is 0.13\n"
     ]
    }
   ],
   "source": [
    "print(f'''The probability of observing 14 wins out of 41 attemps, given that the\n",
    "odds of a win are 14/41 is {round(binom.pmf(k, n, p_h2), 3)}''')"
   ]
  },
  {
   "cell_type": "markdown",
   "id": "4378ba53-de7c-49fc-8f3f-d3e75cb0deea",
   "metadata": {},
   "source": [
    "It looks much more probable our hypothesis based on the data observed from 41 attemps is closer to the truth than the assumption the probability of winning is 50/50-- 13% vs 1.6%.\n",
    "  \n",
    "There are any number of different hypotheses we can make. Here is the plot for success probabilities from 0.1 to 0.9, increments of .1:"
   ]
  },
  {
   "cell_type": "code",
   "execution_count": 45,
   "id": "020edb43-c7e5-43a4-88ef-318a9b263c79",
   "metadata": {},
   "outputs": [],
   "source": [
    "p_range = np.arange(0.1, 1, 0.1)\n",
    "probs = binom.pmf(k, n, p_range)"
   ]
  },
  {
   "cell_type": "code",
   "execution_count": 48,
   "id": "a8bd99c8-d4f2-46b8-9368-c6248a9636dd",
   "metadata": {},
   "outputs": [
    {
     "data": {
      "image/png": "[encoded data removed]",
      "text/plain": [
       "<Figure size 432x288 with 1 Axes>"
      ]
     },
     "metadata": {
      "needs_background": "light"
     },
     "output_type": "display_data"
    }
   ],
   "source": [
    "plt.scatter(p_range, probs)\n",
    "plt.title(\"Probability of different values for p given observation\")\n",
    "plt.xlabel(\"p\")\n",
    "plt.ylabel(\"Probability\")\n",
    "plt.grid()"
   ]
  },
  {
   "cell_type": "markdown",
   "id": "6759aba8-ac78-4d3c-8b54-170b936c189b",
   "metadata": {},
   "source": [
    "(figure 5-1)  \n",
    "Here we have the probabilities of observing 14 wins and 27 losses given different hypotheses about the true probability of and individual success.  \n",
    "Next, to flesh out the pattern by trying more hypotheses (foreshadowing the use of beta distribution/calculus):"
   ]
  },
  {
   "cell_type": "code",
   "execution_count": 49,
   "id": "42f7d4b0-effc-4be4-b33a-4b728f14a247",
   "metadata": {},
   "outputs": [
    {
     "data": {
      "image/png": "[encoded data removed]",
      "text/plain": [
       "<Figure size 432x288 with 1 Axes>"
      ]
     },
     "metadata": {
      "needs_background": "light"
     },
     "output_type": "display_data"
    }
   ],
   "source": [
    "p_range = np.arange(0.1, 1, 0.01)\n",
    "probs = binom.pmf(k, n, p_range)\n",
    "plt.scatter(p_range, probs)\n",
    "plt.title(\"Probability of different values for p given observation\")\n",
    "plt.xlabel(\"p\")\n",
    "plt.ylabel(\"Probability\")\n",
    "plt.grid()"
   ]
  },
  {
   "cell_type": "markdown",
   "id": "9c8934a8-6ac3-42f2-9b8e-56eec87fcf99",
   "metadata": {},
   "source": [
    "(Figure 5-2)  \n",
    "PDF). This is similar to a probability mass function, but used for continuous values:\n",
    "\n",
    "$Beta(p; \\alpha, \\beta) = \\large\\frac{p^{\\alpha-1}*(1-p)^{\\beta-1}}{beta(\\alpha, \\beta)}$\n",
    "Where:  \n",
    "- p = probability of an event\n",
    "- $\\alpha$ = successes observed\n",
    "- $\\beta$ = fails observed\n",
    "\n",
    "In python we an use `scipy.stats`: `beta.pdf(k,n,p_range)`"
   ]
  },
  {
   "cell_type": "code",
   "execution_count": 88,
   "id": "417b3e88-25c8-452a-ae16-b68deaeddd8a",
   "metadata": {},
   "outputs": [
    {
     "data": {
      "image/png": "[encoded data removed]",
      "text/plain": [
       "<Figure size 432x288 with 1 Axes>"
      ]
     },
     "metadata": {
      "needs_background": "light"
     },
     "output_type": "display_data"
    }
   ],
   "source": [
    "from scipy.stats import beta\n",
    "\n",
    "# setup variables\n",
    "alpha = 14 # successes\n",
    "beta_val = 27 # fails\n",
    "x_vals = np.linspace(0,1, 1000) # x-axis\n",
    "# the usage of np.linspace makes for a visually smooth curve, but really\n",
    "# what is represented are infinite points on the x-axis, not just 1000\n",
    "\n",
    "# beta dist probability density function\n",
    "pdf_vals = beta.pdf(x_vals, alpha, beta_val) \n",
    "\n",
    "# plot\n",
    "\n",
    "plt.plot(x_vals, pdf_vals)\n",
    "plt.title(\"Distribution for Beta(14, 27)\")\n",
    "plt.xlabel(\"p\")\n",
    "plt.ylabel(\"Density\")\n",
    "plt.grid()\n",
    "plt.show()"
   ]
  },
  {
   "cell_type": "markdown",
   "id": "9d3d9a74-8003-467c-883d-6c3ba2cceabd",
   "metadata": {},
   "source": [
    "Figure 5-3"
   ]
  },
  {
   "cell_type": "markdown",
   "id": "08a1aaf1-e4ff-4fdc-a6ed-c9374ef411da",
   "metadata": {},
   "source": [
    "This distribution can be used to quantify exactly how strongly we believe that \"the probability that the true rate at which the box returns two quarters is less than 0.5. Just gotta integrate to find the relevant area under the curve. Easily done with Python:"
   ]
  },
  {
   "cell_type": "code",
   "execution_count": 73,
   "id": "44bef82d-d436-4661-8661-2655f1c8e342",
   "metadata": {},
   "outputs": [
    {
     "name": "stdout",
     "output_type": "stream",
     "text": [
      "The probability that the rate individual success is less than 0.5 is 0.9807613458578999\n"
     ]
    }
   ],
   "source": [
    "auc = beta.cdf(0.5, alpha, beta_val)\n",
    "print(f'The probability that the rate individual success is less than 0.5 is {auc}')"
   ]
  },
  {
   "cell_type": "markdown",
   "id": "7bb053de-096c-4128-b7ff-3c3ca6306bed",
   "metadata": {},
   "source": [
    "#### Reverse-Engineering the Gacha Game"
   ]
  },
  {
   "cell_type": "code",
   "execution_count": 82,
   "id": "d17e4dd4-305c-4e3f-851e-b532f4aea60a",
   "metadata": {},
   "outputs": [
    {
     "data": {
      "image/png": "[encoded data removed]",
      "text/plain": [
       "<Figure size 432x288 with 1 Axes>"
      ]
     },
     "metadata": {
      "needs_background": "light"
     },
     "output_type": "display_data"
    }
   ],
   "source": [
    "alpha = 5 # successes\n",
    "beta_val = 1195 # failures\n",
    "\n",
    "x_vals = np.linspace(0.0015,.01,1000)\n",
    "pdf_vals = beta.pdf(x_vals, alpha+1, beta_val+1)\n",
    "# adding 1 to these to avoid a div by zero error. \n",
    "# Look into additive, or \"laplace smoothing.\"\n",
    "# Introduces a weak prior assumption.\n",
    "\n",
    "plt.plot(x_vals, pdf_vals)\n",
    "plt.title(\"Pulling a Bradley Efron Card, Beta(5, 1195)\")\n",
    "plt.xlabel(\"p\")\n",
    "plt.ylabel(\"Density\")\n",
    "plt.grid()\n",
    "plt.show()"
   ]
  },
  {
   "cell_type": "markdown",
   "id": "84ed298d-6db5-4192-9151-98f8eccbaf45",
   "metadata": {},
   "source": [
    "(Figure 5-4)\n",
    "Friend only want to play this game if there is a better than 0.7 probability that the chance of pulling an Efron card is greater than 0.005"
   ]
  },
  {
   "cell_type": "code",
   "execution_count": 84,
   "id": "28b43eab-4c3c-4693-b49c-e4c2fc32325e",
   "metadata": {},
   "outputs": [
    {
     "data": {
      "text/plain": [
       "0.28505593979614996"
      ]
     },
     "execution_count": 84,
     "metadata": {},
     "output_type": "execute_result"
    }
   ],
   "source": [
    "auc = 1-beta.cdf(0.005, alpha, beta_val)\n",
    "auc"
   ]
  },
  {
   "cell_type": "markdown",
   "id": "29adabb0-b1a3-4d83-ae4c-b7004c4bba95",
   "metadata": {},
   "source": [
    "So, no. The probability that the chance of pulling an Efron Card being greater than 0.005 is only 0.285, far from the 0.7 threshold our friend is looking for. "
   ]
  },
  {
   "cell_type": "markdown",
   "id": "32d5f34a-ff89-477b-8784-787785ba655a",
   "metadata": {},
   "source": [
    "### Chapter 5 Exercises\n",
    "(visualizations here are my own supplemental material, not recreations of visualizations in the book)"
   ]
  },
  {
   "cell_type": "markdown",
   "id": "660dc62d-fa4e-4143-a790-78f73c88fba3",
   "metadata": {
    "tags": []
   },
   "source": [
    "#### 1. You want to use the beta distribution to determine if you have a fair coin. You flip the coin 10 times, get 4 heads, 6 tails. What's the probability that the coin will land on heads >60% of the time?"
   ]
  },
  {
   "cell_type": "code",
   "execution_count": 106,
   "id": "d620835d-4a2e-4df4-a529-a4e5afe7804d",
   "metadata": {},
   "outputs": [],
   "source": [
    "# parameters\n",
    "alpha = 4\n",
    "beta_val = 6\n",
    "thresh = 0.6"
   ]
  },
  {
   "cell_type": "code",
   "execution_count": 107,
   "id": "5d88b651-a80c-4a0c-bbd2-84ab72a2c620",
   "metadata": {},
   "outputs": [
    {
     "name": "stdout",
     "output_type": "stream",
     "text": [
      "There is a 9.94% chance the true probability of getting a heads is greater than 60%\n"
     ]
    }
   ],
   "source": [
    "# probability\n",
    "prob = round((1- beta.cdf(0.6, alpha, beta_val))*100,2)\n",
    "print(f'There is a {prob}% chance the true probability of getting a heads is greater than 60%') "
   ]
  },
  {
   "cell_type": "code",
   "execution_count": 115,
   "id": "d5efe344-1a63-465f-a01f-21de2a0e6fd7",
   "metadata": {},
   "outputs": [
    {
     "data": {
      "image/png": "[encoded data removed]",
      "text/plain": [
       "<Figure size 432x288 with 1 Axes>"
      ]
     },
     "metadata": {
      "needs_background": "light"
     },
     "output_type": "display_data"
    }
   ],
   "source": [
    "# visualization:\n",
    "x_vals = np.linspace(0,1,1000)\n",
    "pdf_vals = beta.pdf(x_vals, alpha, beta_val)\n",
    "plt.plot(x_vals, pdf_vals)\n",
    "\n",
    "plt.axvline(x=thresh, color='red', linestyle='--')\n",
    "plt.fill_between(x_vals, pdf_vals, where=(x_vals >= thresh), \n",
    "                 color='blue', alpha=0.3)\n",
    "\n",
    "plt.title(\"Probability of heads, Beta(4, 6)\")\n",
    "plt.xlabel(\"p\")\n",
    "plt.ylabel(\"Density\")\n",
    "plt.grid()\n",
    "plt.show()"
   ]
  },
  {
   "cell_type": "markdown",
   "id": "d06695c4-a9e4-480c-a0a5-db9156da3dba",
   "metadata": {},
   "source": [
    "#### 2. You flip the coin 10 more times and now have 9 heads and 11 tails. What's the probability the coin is fair, give or take 5%?"
   ]
  },
  {
   "cell_type": "code",
   "execution_count": 140,
   "id": "1f2e6459-577c-4930-a71b-309588e8a800",
   "metadata": {},
   "outputs": [],
   "source": [
    "# parameters\n",
    "alpha, beta_val = 9, 11   \n",
    "thresh_gt  = 0.45\n",
    "thresh_lt = 0.55"
   ]
  },
  {
   "cell_type": "code",
   "execution_count": 141,
   "id": "132a5b8f-1a40-495f-817a-99d920136037",
   "metadata": {},
   "outputs": [],
   "source": [
    "def beta_viz(alpha, beta_val, thresh_gt, thresh_lt):\n",
    "    '''\n",
    "    alpha: observed successes\n",
    "    beta_val: observed fails\n",
    "    thresh_lt: probability upper bound\n",
    "    thresh_gt: proability lower bound\n",
    "    '''\n",
    "    # probability\n",
    "    prob_upper = beta.cdf(thresh_lt, alpha, beta_val)\n",
    "    prob_lower = beta.cdf(thresh_gt, alpha, beta_val)\n",
    "\n",
    "    range_prob = round((prob_upper-prob_lower)*100,2)\n",
    "    \n",
    "    print(f\"There's a {range_prob}% chance the coin is fair, give or take 5%, \" \n",
    "          \"\\nvisualized by the shaded area below:\")\n",
    "    \n",
    "    # visualization\n",
    "    x_vals = np.linspace(0,1,1000)\n",
    "    pdf_vals = beta.pdf(x_vals, alpha, beta_val)\n",
    "    plt.plot(x_vals, pdf_vals)\n",
    "\n",
    "    plt.axvline(x=thresh_gt, color='red', linestyle='--')\n",
    "    plt.axvline(x=thresh_lt, color='red', linestyle='--')\n",
    "    plt.fill_between(x_vals, pdf_vals, where=((thresh_gt < x_vals) & \n",
    "                    (x_vals < thresh_lt)), color='blue', alpha=0.3)\n",
    "\n",
    "    plt.title(f\"Probability of a fair coin, -+5%, Beta({alpha}, {beta_val})\")\n",
    "    plt.xlabel(\"p\")\n",
    "    plt.ylabel(\"Density\")\n",
    "    plt.grid()\n",
    "    return plt.show()"
   ]
  },
  {
   "cell_type": "code",
   "execution_count": 138,
   "id": "e4e22ac3-5a53-4c7c-abe3-00afc922fdf2",
   "metadata": {},
   "outputs": [
    {
     "name": "stdout",
     "output_type": "stream",
     "text": [
      "There's a 30.99% chance the coin is fair, give or take 5%, \n",
      "visualized by the shaded area below:\n"
     ]
    },
    {
     "data": {
      "image/png": "[encoded data removed]",
      "text/plain": [
       "<Figure size 432x288 with 1 Axes>"
      ]
     },
     "metadata": {
      "needs_background": "light"
     },
     "output_type": "display_data"
    }
   ],
   "source": [
    "beta_viz(alpha, beta_val, thresh_gt, thresh_lt)"
   ]
  },
  {
   "cell_type": "markdown",
   "id": "dbc48477-3571-4bdb-9266-bfcbb14a7acc",
   "metadata": {},
   "source": [
    "#### 3. You flip the coin 200 more times, and end up with 109 heads and 111 tails. Now what's the probability, give or take 5%?"
   ]
  },
  {
   "cell_type": "code",
   "execution_count": 139,
   "id": "7da5b232-6ade-44f8-9b8f-a7d8b74a3ab0",
   "metadata": {},
   "outputs": [
    {
     "name": "stdout",
     "output_type": "stream",
     "text": [
      "There's a 85.89% chance the coin is fair, give or take 5%, \n",
      "visualized by the shaded area below:\n"
     ]
    },
    {
     "data": {
      "image/png": "[encoded data removed]",
      "text/plain": [
       "<Figure size 432x288 with 1 Axes>"
      ]
     },
     "metadata": {
      "needs_background": "light"
     },
     "output_type": "display_data"
    }
   ],
   "source": [
    "# parameters\n",
    "alpha, beta_val = 109, 111   \n",
    "thresh_gt  = 0.45\n",
    "thresh_lt = 0.55\n",
    "\n",
    "beta_viz(alpha, beta_val, thresh_gt, thresh_lt)"
   ]
  },
  {
   "cell_type": "markdown",
   "id": "533b7f4b-6eb8-4507-b103-555a6639afb7",
   "metadata": {},
   "source": [
    "^Now that's looking more like the curve we'd expect to see with a fair coin."
   ]
  },
  {
   "cell_type": "markdown",
   "id": "99aedba7-afca-4808-8690-3c6a36022993",
   "metadata": {},
   "source": [
    "---"
   ]
  },
  {
   "cell_type": "markdown",
   "id": "5403b248-0233-49dc-8ce4-1dc42ab439d2",
   "metadata": {},
   "source": [
    "## Chapters 6-8\n",
    "No coding here, just pure Baysean theory goodness."
   ]
  },
  {
   "cell_type": "markdown",
   "id": "9b8d48f1-969f-41d5-a0a7-f7c30fdf19ed",
   "metadata": {},
   "source": [
    "---"
   ]
  },
  {
   "cell_type": "markdown",
   "id": "03dbad4a-5ad3-4a24-a624-ff2640a2f9e7",
   "metadata": {},
   "source": [
    "## Chapter 9: Baysean Priors and Working with Probability Distributions\n",
    "The coding here is actually a natural continuation of what we saw just above in chapter 5, but now in a more Baysian context.\n",
    "  \n",
    "Example: Success at navigating an asteroid field. It's a pass or fail question we have some existing data for, so this can be modeled with a beta distribution.\n",
    "We have previously observed 2 survive and 7,442 crashes."
   ]
  },
  {
   "cell_type": "code",
   "execution_count": 31,
   "id": "04990323-3d64-488a-86d6-81f9e22dc329",
   "metadata": {},
   "outputs": [],
   "source": [
    "from scipy.stats import beta"
   ]
  },
  {
   "cell_type": "markdown",
   "id": "7f31c220-18d6-4d33-8623-4d171b3c73e5",
   "metadata": {},
   "source": [
    "Get a distribution for our **likelihood**."
   ]
  },
  {
   "cell_type": "code",
   "execution_count": 5,
   "id": "f2dd142b-d102-4b62-bb4c-ea93dfabfffd",
   "metadata": {},
   "outputs": [
    {
     "data": {
      "image/png": "[encoded data removed]",
      "text/plain": [
       "<Figure size 432x288 with 1 Axes>"
      ]
     },
     "metadata": {
      "needs_background": "light"
     },
     "output_type": "display_data"
    }
   ],
   "source": [
    "alpha, beta_val = 2, 7442\n",
    "x_vals = np.linspace(0,0.003, 1000) # setup x-axis\n",
    "pdf_vals = beta.pdf(x_vals, alpha, beta_val)\n",
    "plt.plot(x_vals, pdf_vals)\n",
    "plt.title(\"Distribution of C-3PO's likelihood of surviving\")\n",
    "plt.xlabel(\"Probability\")\n",
    "plt.ylabel(\"Density\")\n",
    "plt.grid()\n",
    "plt.show()"
   ]
  },
  {
   "cell_type": "markdown",
   "id": "066ec4ca-2ce7-4b7a-838f-925b321c56ed",
   "metadata": {},
   "source": [
    "Figure 9-1"
   ]
  },
  {
   "cell_type": "markdown",
   "id": "454e3fce-c0ca-49be-849e-d8fe017a8e61",
   "metadata": {},
   "source": [
    "This distribution represents a range of likelihood probabilities:  \n",
    "P(we observe a survival *given* we have seen 2/7440 pilots survived in the past.)"
   ]
  },
  {
   "cell_type": "markdown",
   "id": "bbd0da99-7bcc-4fca-be06-8220fe4e3721",
   "metadata": {},
   "source": [
    "Now estimate our **prior** belief/hypothesis probability.  \n",
    "We *believe* Han Solo is no ordinary pilot. Use the asssumption that Han will survivie is 20,000 to 1. Here's the distribution for that:"
   ]
  },
  {
   "cell_type": "code",
   "execution_count": 7,
   "id": "8d36bc48-7763-4732-bf7d-ecb07b263b8a",
   "metadata": {},
   "outputs": [
    {
     "data": {
      "image/png": "[encoded data removed]",
      "text/plain": [
       "<Figure size 432x288 with 1 Axes>"
      ]
     },
     "metadata": {
      "needs_background": "light"
     },
     "output_type": "display_data"
    }
   ],
   "source": [
    "alpha, beta_val = 20000, 1\n",
    "x_vals = np.linspace(.999,1, 1000) # setup x-axis\n",
    "pdf_vals = beta.pdf(x_vals, alpha, beta_val)\n",
    "plt.plot(x_vals, pdf_vals)\n",
    "plt.title(\"Distribution of our prior belief of Han Solo surviving\")\n",
    "plt.xlabel(\"Probability of success\")\n",
    "plt.ylabel(\"Density\")\n",
    "plt.grid()\n",
    "plt.show()"
   ]
  },
  {
   "cell_type": "markdown",
   "id": "48448bca-e405-4bc4-abbd-29c3a125f193",
   "metadata": {},
   "source": [
    "Figure 9-2\n",
    "\n",
    "Ok, this next part is really cool and convenient. We don't have a normalizer, P(E), for this. That is, we don't know the survivability rate overall for all pilots. But we can combine the alpha and betas from the two distributions above to actually get a normalized posterior probability range:  \n",
    "Beta(2+20000, 7440+1)"
   ]
  },
  {
   "cell_type": "code",
   "execution_count": 9,
   "id": "44920a9e-b868-4171-b7ae-74294bb601e3",
   "metadata": {},
   "outputs": [
    {
     "data": {
      "image/png": "[encoded data removed]",
      "text/plain": [
       "<Figure size 432x288 with 1 Axes>"
      ]
     },
     "metadata": {
      "needs_background": "light"
     },
     "output_type": "display_data"
    }
   ],
   "source": [
    "alpha, beta_val = 20002, 7441\n",
    "x_vals = np.linspace(.6,.8, 1000) # setup x-axis\n",
    "pdf_vals = beta.pdf(x_vals, alpha, beta_val)\n",
    "plt.plot(x_vals, pdf_vals)\n",
    "plt.title(\"Distribution of our posterior belief Beta(2+2000,7440+1)\")\n",
    "plt.xlabel(\"Probability of success\")\n",
    "plt.ylabel(\"Density\")\n",
    "plt.grid()\n",
    "plt.show()"
   ]
  },
  {
   "cell_type": "markdown",
   "id": "ba0e643a-9979-4e7a-9e1c-71903cfa27e2",
   "metadata": {},
   "source": [
    "Figure 9-3\n",
    "\n",
    "### Chapter 9 Exercises\n",
    "#### 1. Coin flips, we observe 6 heads in a row and then 1 tails.  \n",
    "- Give the beta distribution that describes this. \n",
    "- Use integration to determine the probability that the true rate of flipping heads is between 0.4 and 0.6\n"
   ]
  },
  {
   "cell_type": "code",
   "execution_count": 43,
   "id": "b98fc32d-a82a-489f-b1fd-70a770a3bc9f",
   "metadata": {},
   "outputs": [
    {
     "name": "stdout",
     "output_type": "stream",
     "text": [
      "Probability: 0.04256\n",
      "with absolute error < 4.725109192804664e-16\n"
     ]
    }
   ],
   "source": [
    "from scipy.stats import beta\n",
    "from scipy.integrate import quad\n",
    "\n",
    "alpha = 6 # heads\n",
    "beta_val = 1 # tails\n",
    "lower = 0.4 # lower bound we're interested in for probability\n",
    "upper = 0.6 # upper bound\n",
    "\n",
    "# lambda function gives us our curve\n",
    "# scipy.integrate.quad method then integrates the specified range \n",
    "result, abs_error = \\\n",
    "    quad(lambda x: beta.pdf(x, alpha, beta_val), lower, upper)\n",
    "\n",
    "print(f\"Probability: {round(result, 5)}\")\n",
    "print(f\"with absolute error < {abs_error}\")"
   ]
  },
  {
   "cell_type": "markdown",
   "id": "6d73b20c-acb2-4ef5-8c5e-7c1fdad11eb5",
   "metadata": {},
   "source": [
    "Based on the observed flips, we estimate that there is just over a 4% chance the coin is fair. "
   ]
  },
  {
   "cell_type": "markdown",
   "id": "dc23d726-90a5-4dd5-808a-c01f3ae7f815",
   "metadata": {},
   "source": [
    "#### 2. Come up with a prior that the coin *is* fair. Use a beta distribution such that there is at least a 95% chance that the tru rate of flipping heads is between 0.4 and 0.6.  \n",
    "\n",
    "The beta function above can serve as a likelihood measure. We can introduce a prior assume the coin is fair (alpha=beta). We don't have a normalizer since we don't know the probability of all coins fair and not. But we can combine the alphas and betas. The higher the alpha of the prior is, the higher our probability will be for the given range 0.4 to 0.6"
   ]
  },
  {
   "cell_type": "code",
   "execution_count": 44,
   "id": "6026172d-c440-487a-8774-26d4cbb9b941",
   "metadata": {},
   "outputs": [
    {
     "name": "stdout",
     "output_type": "stream",
     "text": [
      "Probability: 0.95043\n",
      "with absolute error < 1.1765344527092858e-11\n"
     ]
    }
   ],
   "source": [
    "prior = 54\n",
    "alpha, beta_val = 6+prior, 1+prior # update the alpha and beta\n",
    "\n",
    "result, abs_error = \\\n",
    "    quad(lambda x: beta.pdf(x, alpha, beta_val), lower, upper)\n",
    "\n",
    "print(f\"Probability: {round(result, 5)}\")\n",
    "print(f\"with absolute error < {abs_error}\")"
   ]
  },
  {
   "cell_type": "markdown",
   "id": "24c45129-dae4-48bb-b857-ac5742c20ae4",
   "metadata": {},
   "source": [
    "An alpha and beta for the prior distribution of 54 lets us pass the 95% confidence mark. "
   ]
  },
  {
   "cell_type": "markdown",
   "id": "87c37196-15b8-4b24-870f-215a3d085a98",
   "metadata": {},
   "source": [
    "#### 3. Now see how many more heads (w/ no more tails) it would take to convince you there is a reasonable chance that the coin is not fair--Drop the confidence for the 0.4 to 0.6 range below 0.5.\n",
    "\n",
    "So we're keeping our fair-coin prior, and adding more observations of heads to see how many it takes before we conclude the coin is tricked. "
   ]
  },
  {
   "cell_type": "code",
   "execution_count": 54,
   "id": "c5bc2413-e7eb-4e97-9eb9-c212c826b28e",
   "metadata": {},
   "outputs": [
    {
     "name": "stdout",
     "output_type": "stream",
     "text": [
      "Probability: 0.48147\n",
      "with absolute error < 3.406433366801885e-11\n"
     ]
    }
   ],
   "source": [
    "add_heads = 23\n",
    "alpha, beta_val = 6+prior+add_heads, 1+prior # update the alpha and beta\n",
    "\n",
    "result, abs_error = \\\n",
    "    quad(lambda x: beta.pdf(x, alpha, beta_val), lower, upper)\n",
    "\n",
    "print(f\"Probability: {round(result, 5)}\")\n",
    "print(f\"with absolute error < {abs_error}\")"
   ]
  },
  {
   "cell_type": "markdown",
   "id": "e2017992-d0f7-443b-a3d9-549be119ce53",
   "metadata": {},
   "source": [
    "Plugging in some numbers quickly reveals that 23 additional heads will convince us the coin is tricked."
   ]
  },
  {
   "cell_type": "markdown",
   "id": "179c379f-82eb-49b4-a1a0-72afa8fc39f4",
   "metadata": {},
   "source": [
    "---"
   ]
  },
  {
   "cell_type": "markdown",
   "id": "30523871-288d-4913-b0a7-b301b4f41b38",
   "metadata": {},
   "source": [
    "## Chapter 10 - Introduction to Averaging and Parameter Estimateion\n",
    "No coding in this chapter.  \n",
    "Parameter estimation - using data to guess the value of an unknown variable.\n",
    "- Averaging is the most basic form, it's a good standard to compare other approaches by.\n",
    "- No coding in this chapter. Just a demonstration of how probability justifies our intuition about when to use the average. \n",
    "- Be cognizant of when you're using the average to estimate a parameter- approximate some *true* value, and when you're just trying to summarize a sample/population."
   ]
  },
  {
   "cell_type": "markdown",
   "id": "8200684c-43bb-4bad-8340-64c4926c1c34",
   "metadata": {},
   "source": [
    "---"
   ]
  },
  {
   "cell_type": "markdown",
   "id": "1f9a01cf-5e41-425e-bda5-0b64a50b76c6",
   "metadata": {},
   "source": [
    "## Chapter 11 - Measuring the Spread of Our Data\n",
    "An explanation of mean absolute deviation, variance, and standard deviation.\n",
    "\n",
    "Generally no coding in this chapter, but we can approach exercise 2 with some code:\n",
    "#### 2. Calculate the mean, variance, and standard deviation for the following values:   \n",
    "1, 2, 3, 4, 5, 6, 7, 8, 9, 10"
   ]
  },
  {
   "cell_type": "code",
   "execution_count": 57,
   "id": "f74cec42-3425-4b19-ba50-483a304ab44e",
   "metadata": {},
   "outputs": [],
   "source": [
    "nums = [1,2,3,4,5,6,7,8,9,10]\n"
   ]
  },
  {
   "cell_type": "markdown",
   "id": "309de662-b26a-4e47-be43-d82c91211c8f",
   "metadata": {},
   "source": [
    "By hand:"
   ]
  },
  {
   "cell_type": "code",
   "execution_count": 58,
   "id": "545715ea-8be9-48c8-8444-f641bd3b99b3",
   "metadata": {},
   "outputs": [],
   "source": [
    "def mean(nums):\n",
    "    len, sum = 0,0\n",
    "    for num in nums:\n",
    "        sum += num\n",
    "        len += 1\n",
    "    return (sum/len)"
   ]
  },
  {
   "cell_type": "code",
   "execution_count": 59,
   "id": "5c4353b6-7e10-4869-b2f3-dc8cc2a12369",
   "metadata": {},
   "outputs": [],
   "source": [
    "def var(nums, mean):\n",
    "    var = 0\n",
    "    for num in nums:\n",
    "        var += (num-mean)**2\n",
    "    return var/len(nums)"
   ]
  },
  {
   "cell_type": "code",
   "execution_count": 60,
   "id": "9cd4f87a-2c8d-4bbb-a90b-043848d5ec11",
   "metadata": {},
   "outputs": [],
   "source": [
    "import math\n",
    "stdev = math.sqrt(var(nums, mean(nums)))"
   ]
  },
  {
   "cell_type": "code",
   "execution_count": 61,
   "id": "7494617c-939e-4437-a45e-64131efab25d",
   "metadata": {},
   "outputs": [
    {
     "name": "stdout",
     "output_type": "stream",
     "text": [
      "Average 5.5\n",
      "Variance: 8.25\n",
      "Standard Deviation: 2.8722813232690143\n"
     ]
    }
   ],
   "source": [
    "print(f'Average {mean(nums)}')\n",
    "print(f'Variance: {var(nums, mean(nums))}')\n",
    "print(f'Standard Deviation: {stdev}')"
   ]
  },
  {
   "cell_type": "markdown",
   "id": "bd052d74-297d-4044-883f-5b43dbe5acc7",
   "metadata": {},
   "source": [
    "With the statistics library:"
   ]
  },
  {
   "cell_type": "code",
   "execution_count": 62,
   "id": "9744614d-72cd-4456-bdd9-4af06c603892",
   "metadata": {},
   "outputs": [],
   "source": [
    "import statistics\n",
    "avg = statistics.mean(nums) \n",
    "var = statistics.pvariance(nums)\n",
    "std = statistics.pstdev(nums)"
   ]
  },
  {
   "cell_type": "code",
   "execution_count": 63,
   "id": "646c37a9-4867-446c-bcd4-d279a7c463b7",
   "metadata": {},
   "outputs": [
    {
     "name": "stdout",
     "output_type": "stream",
     "text": [
      "Average 5.5\n",
      "Variance: 8.25\n",
      "Standard Deviation: 2.8722813232690143\n"
     ]
    }
   ],
   "source": [
    "print(f'Average {avg}')\n",
    "print(f'Variance: {var}')\n",
    "print(f'Standard Deviation: {std}')"
   ]
  },
  {
   "cell_type": "markdown",
   "id": "0670069b-6ac2-42f6-931c-bdff1c955652",
   "metadata": {},
   "source": [
    "Note here statistics.pvariance() and .pstdev() are used to get the population measures. \n",
    "statistics.variance() and .stdev() does the sample calculation which reduces the degrees of freedom by 1 (n-1 denominator) when doing the calculations."
   ]
  },
  {
   "cell_type": "markdown",
   "id": "369eae93-5e0d-4198-8b2c-62b430cf1a2f",
   "metadata": {},
   "source": [
    "---"
   ]
  },
  {
   "cell_type": "markdown",
   "id": "af7496cd-c300-4b18-9970-d99d0a77e1c1",
   "metadata": {},
   "source": [
    "## Chapter 12 - The Normal Distribution"
   ]
  },
  {
   "cell_type": "code",
   "execution_count": 1,
   "id": "9145fbc9-30fc-4548-83c3-9ca8e2808f7c",
   "metadata": {},
   "outputs": [],
   "source": [
    "import numpy as np\n",
    "import matplotlib.pyplot as plt\n",
    "from scipy.stats import norm"
   ]
  },
  {
   "cell_type": "code",
   "execution_count": 6,
   "id": "310059e0-21aa-4e76-9fb8-de94e665e6a3",
   "metadata": {},
   "outputs": [],
   "source": [
    "def plot_norm(mean, stdev):\n",
    "    x = np.linspace(-5, 5, 1000)\n",
    "\n",
    "    # setup normal distribution with our params\n",
    "    normal_dist = norm(mean, stdev)\n",
    "\n",
    "    # normal dist probability density function\n",
    "    pdf_vals = normal_dist.pdf(x)\n",
    "\n",
    "    # plot\n",
    "    plt.plot(x, pdf_vals)\n",
    "    plt.title(f\"The normal distribution with a mean of {mean} and a standard deviation of {stdev}\")\n",
    "    plt.xlabel(\"Value\")\n",
    "    plt.ylabel(\"Density\")\n",
    "    plt.grid()\n",
    "    plt.show()"
   ]
  },
  {
   "cell_type": "code",
   "execution_count": 7,
   "id": "80b011f5-d737-456e-87f2-a9a011e0fac5",
   "metadata": {},
   "outputs": [
    {
     "data": {
      "image/png": "[encoded data removed]",
      "text/plain": [
       "<Figure size 432x288 with 1 Axes>"
      ]
     },
     "metadata": {
      "needs_background": "light"
     },
     "output_type": "display_data"
    }
   ],
   "source": [
    "mean = 0\n",
    "stdev = 1\n",
    "plot_norm(mean, stdev)"
   ]
  },
  {
   "cell_type": "markdown",
   "id": "7a6bfddd-97f3-419d-af72-28d6c20fdf6d",
   "metadata": {},
   "source": [
    "Figure 12-3"
   ]
  },
  {
   "cell_type": "code",
   "execution_count": 8,
   "id": "28bef255-5691-45e3-a850-5a6e7d09cde2",
   "metadata": {},
   "outputs": [
    {
     "data": {
      "image/png": "[encoded data removed]",
      "text/plain": [
       "<Figure size 432x288 with 1 Axes>"
      ]
     },
     "metadata": {
      "needs_background": "light"
     },
     "output_type": "display_data"
    }
   ],
   "source": [
    "stdev = 0.5\n",
    "plot_norm(mean, stdev)"
   ]
  },
  {
   "cell_type": "markdown",
   "id": "043aff1b-9549-4dda-b655-1c3f2dfb9e44",
   "metadata": {},
   "source": [
    "Figure 12-4"
   ]
  },
  {
   "cell_type": "code",
   "execution_count": 9,
   "id": "85c0e90a-1a3d-48ec-9dd8-3e9d2e6124db",
   "metadata": {},
   "outputs": [
    {
     "data": {
      "image/png": "[encoded data removed]",
      "text/plain": [
       "<Figure size 432x288 with 1 Axes>"
      ]
     },
     "metadata": {
      "needs_background": "light"
     },
     "output_type": "display_data"
    }
   ],
   "source": [
    "stdev = 2\n",
    "plot_norm(mean, stdev)"
   ]
  },
  {
   "cell_type": "markdown",
   "id": "72726ebb-096a-477f-9b79-a0179a5298a9",
   "metadata": {},
   "source": [
    "Figure 12-5"
   ]
  },
  {
   "cell_type": "markdown",
   "id": "f67da906-d239-4d6c-8efc-efb8d8abeb18",
   "metadata": {},
   "source": [
    "### Chapter scenario: Bomb to break open bank safe in heist\n",
    "- Villain needs 18 seconds to get 200 ft away\n",
    "- Has 6 fuses of equal length\n",
    "- Tests 5 fuses to see how much time they'll give him\n",
    "- Time (seconds) measurements = 19, 22, 20, 19, 23\n",
    "- mean = 20.6, stdev = 1.62\n",
    "- Villain wants to be 99.9% sure he'll escape the blast.\n",
    "- Can we be this sure and proceed with the heist?"
   ]
  },
  {
   "cell_type": "code",
   "execution_count": 14,
   "id": "e391f7b4-94a2-403c-a856-3f2ccc2afef9",
   "metadata": {},
   "outputs": [],
   "source": [
    "mean = 20.6\n",
    "stdev = 1.62"
   ]
  },
  {
   "cell_type": "code",
   "execution_count": 15,
   "id": "fb2a30f8-3214-409b-8d52-d593a834d0b9",
   "metadata": {},
   "outputs": [
    {
     "data": {
      "image/png": "[encoded data removed]",
      "text/plain": [
       "<Figure size 432x288 with 1 Axes>"
      ]
     },
     "metadata": {
      "needs_background": "light"
     },
     "output_type": "display_data"
    }
   ],
   "source": [
    "x = np.linspace(12.5, 30, 1000)\n",
    "\n",
    "# setup normal distribution with our params\n",
    "normal_dist = norm(mean, stdev)\n",
    "\n",
    "# normal dist probability density function\n",
    "pdf_vals = normal_dist.pdf(x)\n",
    "\n",
    "# plot\n",
    "plt.plot(x, pdf_vals)\n",
    "plt.title(\"Normal distribution representing our fuse measurements\")\n",
    "plt.xlabel(\"Value\")\n",
    "plt.ylabel(\"Density\")\n",
    "plt.grid()\n",
    "plt.show()"
   ]
  },
  {
   "cell_type": "markdown",
   "id": "38396202-a953-4c8f-820a-613d15e34c0c",
   "metadata": {},
   "source": [
    "Figure 12-6"
   ]
  },
  {
   "cell_type": "code",
   "execution_count": 6,
   "id": "8a67574d-0c30-43a6-8e52-407f6d7b8d16",
   "metadata": {},
   "outputs": [
    {
     "name": "stdout",
     "output_type": "stream",
     "text": [
      "0.05425369496528059 with absolute error < 2.98104495886194e-11\n"
     ]
    }
   ],
   "source": [
    "from scipy.integrate import quad\n",
    "from scipy.stats import norm\n",
    "\n",
    "pct, err = quad(lambda x: norm.pdf(x, mean, stdev), 10, 18)\n",
    "print(f'{pct} with absolute error < {err}')"
   ]
  },
  {
   "cell_type": "markdown",
   "id": "1296974d-3a68-4603-a30c-8476ca84f171",
   "metadata": {},
   "source": [
    "According to this model there's over a 5% chance the fuse will take less than 18 seconds. Not enough time to get away. The shaded area visualizes this probability:"
   ]
  },
  {
   "cell_type": "code",
   "execution_count": 16,
   "id": "e043c9a8-72eb-4236-9bc0-77124a64b30a",
   "metadata": {},
   "outputs": [
    {
     "data": {
      "image/png": "[encoded data removed]",
      "text/plain": [
       "<Figure size 432x288 with 1 Axes>"
      ]
     },
     "metadata": {
      "needs_background": "light"
     },
     "output_type": "display_data"
    }
   ],
   "source": [
    "x = np.linspace(12.5, 30, 1000)\n",
    "\n",
    "# setup normal distribution with our params\n",
    "normal_dist = norm(mean, stdev)\n",
    "\n",
    "# normal dist probability density function\n",
    "pdf_vals = normal_dist.pdf(x)\n",
    "\n",
    "# plot\n",
    "plt.plot(x, pdf_vals)\n",
    "\n",
    "# Shade the area under the curve up to 18 seconds\n",
    "x_fill = np.linspace(12.5, 18, 1000)\n",
    "pdf_fill = normal_dist.pdf(x_fill)\n",
    "plt.fill_between(x_fill, pdf_fill, color='black', alpha=0.5)\n",
    "\n",
    "plt.title(\"Area representing fuse lengths less than or equal to 18 seconds\")\n",
    "plt.xlabel(\"Value\")\n",
    "plt.ylabel(\"Density\")\n",
    "plt.grid()\n",
    "plt.show()"
   ]
  },
  {
   "cell_type": "markdown",
   "id": "6ed445ea-be77-47ee-bc0f-fc2a8346d981",
   "metadata": {},
   "source": [
    "Figure 12-7"
   ]
  },
  {
   "cell_type": "code",
   "execution_count": 28,
   "id": "e4148466-2a2a-42c0-8796-46470a7146b0",
   "metadata": {},
   "outputs": [
    {
     "data": {
      "image/png": "[encoded data removed]",
      "text/plain": [
       "<Figure size 432x288 with 1 Axes>"
      ]
     },
     "metadata": {
      "needs_background": "light"
     },
     "output_type": "display_data"
    }
   ],
   "source": [
    "x = np.linspace(12.5, 30, 1000)\n",
    "\n",
    "# setup normal distribution with our params\n",
    "normal_dist = norm(mean, stdev)\n",
    "\n",
    "# normal dist probability density function\n",
    "pdf_vals = normal_dist.pdf(x)\n",
    "\n",
    "# plot\n",
    "plt.plot(x, pdf_vals)\n",
    "\n",
    "# Shade the area under the curve up to 18 seconds\n",
    "x_fill = np.linspace(mean-stdev, mean+stdev, 18, 1000)\n",
    "pdf_fill = normal_dist.pdf(x_fill)\n",
    "plt.fill_between(x_fill, pdf_fill, color='black', alpha=0.5, label='68%')\n",
    "\n",
    "plt.title(\"Area representing fuse lengths less than or equal to 18 seconds\")\n",
    "plt.xlabel(\"Value\")\n",
    "plt.ylabel(\"Density\")\n",
    "plt.legend()\n",
    "plt.grid()\n",
    "plt.show()"
   ]
  },
  {
   "cell_type": "markdown",
   "id": "7c5e7680-3247-47a5-ac70-2b2f962d7f42",
   "metadata": {},
   "source": [
    "Figure 12-8"
   ]
  },
  {
   "cell_type": "code",
   "execution_count": 38,
   "id": "65152666-44a5-48dd-8e87-9a4d64486d90",
   "metadata": {},
   "outputs": [
    {
     "data": {
      "image/png": "[encoded data removed]",
      "text/plain": [
       "<Figure size 432x288 with 1 Axes>"
      ]
     },
     "metadata": {
      "needs_background": "light"
     },
     "output_type": "display_data"
    }
   ],
   "source": [
    "mean, stdev = 0.43, 0.53\n",
    "alpha, beta_val = 3, 4\n",
    "\n",
    "x = np.linspace(0, 1, 1000)\n",
    "\n",
    "# setup normal distribution with our params\n",
    "normal_dist = norm(mean, stdev)\n",
    "\n",
    "# normal dist probability density function\n",
    "pdf_vals_n = normal_dist.pdf(x)\n",
    "pdf_vals_b = beta.pdf(x, alpha, beta_val)\n",
    "\n",
    "# plot\n",
    "plt.plot(x, pdf_vals_n, label='Normal')\n",
    "plt.plot(x, pdf_vals_b, label='Beta')\n",
    "plt.xlabel(\"Probability\")\n",
    "plt.ylabel(\"Density\")\n",
    "plt.legend(title='Distribution')\n",
    "plt.grid()\n",
    "plt.show()"
   ]
  },
  {
   "cell_type": "markdown",
   "id": "5cb8cf26-e4f7-47f5-9591-78c121150956",
   "metadata": {},
   "source": [
    "Figure 12-9"
   ]
  },
  {
   "cell_type": "markdown",
   "id": "01674066-288b-4180-a616-d9080bf92c67",
   "metadata": {},
   "source": [
    "### Chapter 12 Exercises"
   ]
  },
  {
   "cell_type": "markdown",
   "id": "ef0b0267-2857-4c70-baf6-6a88b0e0d4bc",
   "metadata": {},
   "source": [
    "#### 1. What is the probability of observing a value five sigma greater than the mean or more"
   ]
  },
  {
   "cell_type": "code",
   "execution_count": 41,
   "id": "2bd9b23a-879d-4e53-9059-dc41b558f4b1",
   "metadata": {},
   "outputs": [
    {
     "name": "stdout",
     "output_type": "stream",
     "text": [
      "-2.866515718791944e-07 with absolute error: 1.355099558621143e-13\n"
     ]
    }
   ],
   "source": [
    "from scipy.stats import norm\n",
    "from scipy.integrate import quad\n",
    "\n",
    "pct, err = quad(lambda x: norm.pdf(x, 0, 1), 10,5)\n",
    "print(f'{pct} with absolute error: {err}')"
   ]
  },
  {
   "cell_type": "markdown",
   "id": "1ef13b0f-3192-4352-963a-6774cb2e955c",
   "metadata": {},
   "source": [
    "#### 2. A fever is any temp > 100.4 degrees F. Given the following measurements, what's the probability the patient has a fever?\n",
    "100.0, 99.8, 101.0, 100.5, 99.7"
   ]
  },
  {
   "cell_type": "code",
   "execution_count": null,
   "id": "17d1a502-5c29-4079-9cac-c2b82d59f488",
   "metadata": {},
   "outputs": [],
   "source": []
  },
  {
   "cell_type": "markdown",
   "id": "c06c5d51-0c89-41b7-b493-8bd7ae6688af",
   "metadata": {},
   "source": [
    "##### 3. Suppose "
   ]
  },
  {
   "cell_type": "code",
   "execution_count": null,
   "id": "061974e7-c7a4-4785-a22c-b75c53b62b40",
   "metadata": {},
   "outputs": [],
   "source": []
  },
  {
   "cell_type": "markdown",
   "id": "3da2dd26-af99-476a-8be3-ca4168181755",
   "metadata": {},
   "source": [
    "#### "
   ]
  },
  {
   "cell_type": "code",
   "execution_count": null,
   "id": "4217141d-c003-4058-9cfc-27c7cdbdba8b",
   "metadata": {},
   "outputs": [],
   "source": []
  },
  {
   "cell_type": "code",
   "execution_count": null,
   "id": "b7f9918a-9e90-4e07-9d3a-e6e7bbba7233",
   "metadata": {},
   "outputs": [],
   "source": []
  },
  {
   "cell_type": "code",
   "execution_count": null,
   "id": "9af9ba65-9fb3-43a0-a795-1dd94a9f2f05",
   "metadata": {},
   "outputs": [],
   "source": []
  }
 ],
 "metadata": {
  "kernelspec": {
   "display_name": "Python 3 (ipykernel)",
   "language": "python",
   "name": "python3"
  },
  "language_info": {
   "codemirror_mode": {
    "name": "ipython",
    "version": 3
   },
   "file_extension": ".py",
   "mimetype": "text/x-python",
   "name": "python",
   "nbconvert_exporter": "python",
   "pygments_lexer": "ipython3",
   "version": "3.9.12"
  }
 },
 "nbformat": 4,
 "nbformat_minor": 5
}
